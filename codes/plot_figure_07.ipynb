{
 "cells": [
  {
   "cell_type": "markdown",
   "id": "b35415e1",
   "metadata": {},
   "source": [
    "======================== Import Packages =========================="
   ]
  },
  {
   "cell_type": "code",
   "execution_count": null,
   "id": "ee83fcd4",
   "metadata": {
    "lines_to_next_cell": 2
   },
   "outputs": [],
   "source": [
    "import os,sys,pdb\n",
    "import numpy as np\n",
    "import matplotlib.pyplot as plt\n",
    "from astropy.table import Table, join, MaskedColumn\n",
    "from astropy import constants as const\n",
    "import csv\n",
    "import matplotlib as mpl\n",
    "from matplotlib.ticker import MaxNLocator"
   ]
  },
  {
   "cell_type": "markdown",
   "id": "00409606",
   "metadata": {},
   "source": [
    "============================= Code =================================="
   ]
  },
  {
   "cell_type": "code",
   "execution_count": null,
   "id": "5fcf7b4c",
   "metadata": {},
   "outputs": [],
   "source": [
    "#### LOAD IN TABLES FROM PAPER SUPPLEMENTAL MATERIAL\n",
    "TS = Table.read('../input/apjaa2846t1_mrf.txt', format='ascii.cds')\n",
    "TG = Table.read('../input/apjaa2846t3_mrf.txt', format='ascii.cds')\n",
    "T = join(TS, TG, join_type='inner')"
   ]
  },
  {
   "cell_type": "code",
   "execution_count": null,
   "id": "759a7597",
   "metadata": {},
   "outputs": [],
   "source": [
    "### REMOVE SOURCES WITH UNKNOWN STELLAR MASSES\n",
    "T = T[~T['Mass'].mask]"
   ]
  },
  {
   "cell_type": "code",
   "execution_count": null,
   "id": "8e448015",
   "metadata": {},
   "outputs": [],
   "source": [
    "### DEFINE PLOT VARIABLES\n",
    "x_data = np.ma.log10(T['Mass'])\n",
    "x_err  = np.ma.array(0.434*(T['e_Mass'] / T['Mass']))\n",
    "y_data = np.ma.log10(T['Mgas'])\n",
    "y_max  = np.ma.log10(T['B_Mgas'])\n",
    "y_min  = np.ma.log10(T['b_Mgas'])"
   ]
  },
  {
   "cell_type": "code",
   "execution_count": null,
   "id": "bd47e678",
   "metadata": {},
   "outputs": [],
   "source": [
    "### SETUP PLOT\n",
    "mpl.rc('xtick', labelsize=15) \n",
    "mpl.rc('ytick', labelsize=15)\n",
    "mpl.rc('xtick.major', size=7, pad=7, width=1)\n",
    "mpl.rc('ytick.major', size=7, pad=7, width=1)\n",
    "mpl.rc('axes', linewidth=1)\n",
    "mpl.rc('lines', markersize=5)\n",
    "fig = plt.figure(figsize = (8, 6))\n",
    "ax = fig.add_subplot(111)\n",
    "ax.set_xlim([-1.3, 0.7])\n",
    "ax.set_ylim([-2.0, 2.0])\n",
    "ax.yaxis.set_major_locator(MaxNLocator(5, integer=True))\n",
    "ax.xaxis.set_major_locator(MaxNLocator(4))\n",
    "ax.set_xlabel(r'$\\mathregular{log(M_{\\ast})}$' + ' ' + r'$\\mathregular{[M_{\\odot}]}$', fontsize=17)\n",
    "ax.set_ylabel(r'$\\mathregular{log(M_{gas})}$' + ' ' + r'$\\mathregular{[M_{Jup}]}$', fontsize=17)\n",
    "ax.tick_params(which='minor', axis='x', length=3, color='k', width=1)\n",
    "ax.tick_params(which='minor', axis='y', length=3, color='k', width=1)\n",
    "ax.minorticks_on()"
   ]
  },
  {
   "cell_type": "code",
   "execution_count": null,
   "id": "ca33558c",
   "metadata": {},
   "outputs": [],
   "source": [
    "### PLOT DATA \n",
    "for i, val in enumerate(T['Name']):\n",
    "\n",
    "    ### PLOT NON-DETECTIONS\n",
    "    if T['l_Mgas'][i] == '<':\n",
    "        ax.errorbar(x_data[i], y_data[i], fmt='v', color='lightgray', ms=6, mec='black', mew=0.9, zorder=2)\n",
    "\n",
    "    ### PLOT DETECTIONS WITH ONLY UPPER LIMITS\n",
    "    elif T['b_Mgas'][i] is np.ma.masked:\n",
    "        ax.scatter(x_data[i], y_data[i], marker='o', facecolor='lightblue', s=60, edgecolor='darkslategray', zorder=3, linewidth=1)\n",
    "        ax.arrow(x_data[i], y_data[i], 0.0, -0.3, head_width=0.02, head_length=0.04, fc='lightgray', ec='lightgray', linewidth=1, zorder=1)\n",
    "        ax.errorbar(x_data[i], y_data[i], yerr=[[0], [y_max[i] - y_data[i]]], xerr=[x_err[i]],\n",
    "                    fmt='o', mfc='lightblue', ms=0, mec='black', mew=1, ecolor='lightgray', elinewidth=1, zorder=1, capsize=3)\n",
    "        \n",
    "    ### PLOT DETECTIONS WITH BOTH UPPER AND LOWER LIMITS\n",
    "    else:        \n",
    "        ax.errorbar(x_data[i], y_data[i], yerr=[[y_data[i] - y_min[i]], [y_max[i] - y_data[i]]], xerr=[x_err[i]],\n",
    "                    fmt='o', mfc='lightblue', ms=0, mec='black', mew=1, ecolor='lightgray', elinewidth=1, zorder=1, capsize=3)\n",
    "        ax.scatter(x_data[i], y_data[i], marker='o', facecolor='lightblue', s=60, edgecolor='darkslategray', zorder=3, linewidth=1)"
   ]
  },
  {
   "cell_type": "code",
   "execution_count": null,
   "id": "8c008372",
   "metadata": {},
   "outputs": [],
   "source": [
    "### SHOW FIGURE\n",
    "fig"
   ]
  },
  {
   "cell_type": "code",
   "execution_count": null,
   "id": "51542bc7",
   "metadata": {},
   "outputs": [],
   "source": [
    "### SAVE FIGURE\n",
    "fig.savefig('../output/figure_07.png', bbox_inches='tight', dpi=100)\n",
    "plt.close('all')"
   ]
  }
 ],
 "metadata": {
  "jupytext": {
   "cell_metadata_filter": "-all",
   "main_language": "python",
   "notebook_metadata_filter": "-all"
  },
  "kernelspec": {
   "display_name": "Python 3.9.2 64-bit",
   "language": "python",
   "name": "python3"
  },
  "language_info": {
   "codemirror_mode": {
    "name": "ipython",
    "version": 3
   },
   "file_extension": ".py",
   "mimetype": "text/x-python",
   "name": "python",
   "nbconvert_exporter": "python",
   "pygments_lexer": "ipython3",
   "version": "3.9.2"
  },
  "vscode": {
   "interpreter": {
    "hash": "31f2aee4e71d21fbe5cf8b01ff0e069b9275f58929596ceb00d14d90e3e16cd6"
   }
  }
 },
 "nbformat": 4,
 "nbformat_minor": 5
}
