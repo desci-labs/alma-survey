{
 "cells": [
  {
   "cell_type": "markdown",
   "id": "1dbf2fce",
   "metadata": {},
   "source": [
    "======================== Import Packages =========================="
   ]
  },
  {
   "cell_type": "code",
   "execution_count": null,
   "id": "97dfef98",
   "metadata": {},
   "outputs": [],
   "source": [
    "import sys,os,pdb,glob\n",
    "import numpy as np\n",
    "from astropy import constants as const\n",
    "from astropy import units as u\n",
    "from astropy.table import Table, join"
   ]
  },
  {
   "cell_type": "markdown",
   "id": "adc4727c",
   "metadata": {},
   "source": [
    "========================== Define Fuctions =========================="
   ]
  },
  {
   "cell_type": "code",
   "execution_count": null,
   "id": "0ee17705",
   "metadata": {},
   "outputs": [],
   "source": [
    "def fix_units(b, l, f, d, t):\n",
    "    \n",
    "    \"\"\"\n",
    "    PURPOSE:    Change units of inputs to work with\n",
    "                dust mass calculations\n",
    "\n",
    "    INPUT:      b = dust opacity power-law index (unitless; float)\n",
    "                l = wavelength of observations (microns; float)\n",
    "                f = observed flux (mJy; float)\n",
    "                d = istance to disk (pc; float)\n",
    "                t = isk temperature (K; float)\n",
    "\n",
    "    OUTPUT:     Inputs but now with correct units\n",
    "\n",
    "    \"\"\"\n",
    "\n",
    "    b = float(b) \n",
    "    t = float(t) * u.K \n",
    "    d = float(d) * u.pc.to(u.cm) * u.cm\n",
    "    l = float(l) * u.um.to(u.cm) * u.cm \n",
    "    f = float(f) * u.mJy\n",
    "\n",
    "    return b, l, f, d, t"
   ]
  },
  {
   "cell_type": "code",
   "execution_count": null,
   "id": "f559b3dc",
   "metadata": {},
   "outputs": [],
   "source": []
  },
  {
   "cell_type": "code",
   "execution_count": null,
   "id": "c0852dd0",
   "metadata": {},
   "outputs": [],
   "source": [
    "def get_planck(l, t):\n",
    "\n",
    "    \"\"\"\n",
    "    PURPOSE:    Calculate Planck function\n",
    "\n",
    "    INPUT:      l = wavelength of observations in cm (float)\n",
    "                t = disk temperature in K (float)\n",
    "\n",
    "    OUTPUT:     planck = Planck function (float)\n",
    "\n",
    "    \"\"\"\n",
    "\n",
    "    ### CONVERT WAVELENGTH TO FREQUENCY\n",
    "    nu = (const.c.cgs / l)\n",
    "\n",
    "    ### CALCULATE PLANCK FUNCTION\n",
    "    plank = 2 * const.h.cgs * nu**3 / const.c.cgs**2 / (np.exp(const.h.cgs *nu / (const.k_B.cgs * t)) -1)\n",
    "\n",
    "    return plank"
   ]
  },
  {
   "cell_type": "code",
   "execution_count": null,
   "id": "59d30545",
   "metadata": {},
   "outputs": [],
   "source": [
    "def get_kappa(l, b):\n",
    "\n",
    "    \"\"\"\n",
    "    PURPOSE:    Calculate kappa parameter for dust mass calculation\n",
    "\n",
    "    INPUT:      l = wavelength of observations in cm (float)\n",
    "                b = dust opacity power-law index (float)\n",
    "\n",
    "    OUTPUT:     kappa = kappa parameter for dust mass calculation (float)\n",
    "\n",
    "    \"\"\"\n",
    "\n",
    "    ### CONVERT WAVELENGTH TO FREQUENCY\n",
    "    nu = (const.c.cgs / l)\n",
    "\n",
    "    ### ASSUMES NORMALIZATION OF 2.3 cm^2/g at 230 GHz\n",
    "    nf = 2.3 / ( (230. / 1000.)**b )\n",
    "\n",
    "    ### CALCULATE KAPPA PARAMETER\n",
    "    kappa = (nf * (nu / (1e9 * 1000 * u.Hz))**b ) * ((u.cm**2)/(u.g))\n",
    "        \n",
    "    return kappa "
   ]
  },
  {
   "cell_type": "code",
   "execution_count": null,
   "id": "4da8ef85",
   "metadata": {},
   "outputs": [],
   "source": [
    "def get_mult(d, kappa, b_nu):\n",
    "\n",
    "    \"\"\"\n",
    "    PURPOSE:    Calculate multiplication factor that produces dust mass\n",
    "                when applied to source flux in mJy\n",
    "                (matches Eq. 1 in Ansdell+2016 when d=150pc)\n",
    "\n",
    "    INPUT:      d = distance to source in cm (float)\n",
    "                kappa = kappa parameter from get_kappa() (float)\n",
    "                b_nu = Planck function from get_planck() (float)\n",
    "\n",
    "    OUTPUT:     mult = mltiplication factor that produces dust mass\n",
    "                       when applied to source flux in mJy (float)\n",
    "\n",
    "    \"\"\"\n",
    "\n",
    "    mult = (1e-26) * (d**2) / (kappa * b_nu) / const.M_sun.cgs\n",
    "        \n",
    "    return mult"
   ]
  },
  {
   "cell_type": "code",
   "execution_count": null,
   "id": "6f928da0",
   "metadata": {},
   "outputs": [],
   "source": [
    "def get_dustmass(b, l, f, d, t):\n",
    "    \n",
    "    \"\"\"\n",
    "    PURPOSE:    Calculate disk dust mass using prescription from\n",
    "                Hildebrand 1983 (1983QJRAS..24..267H)\n",
    "\n",
    "    INPUT:      b = dust opacity power-law index (unitless; float)\n",
    "                l = wavelength of observations (microns; float)\n",
    "                f = observed flux (mJy; float)\n",
    "                d = distance to disk (pc; float)\n",
    "                t = disk temperature (K; float)\n",
    "\n",
    "    OUTPUT:     Disk dust mass in Earth masses (float)\n",
    "\n",
    "    \"\"\"\n",
    "\n",
    "    b, l, f, d, t = fix_units(b, l, f, d, t)\n",
    "    k_nu = get_kappa(l, b)\n",
    "    b_nu = get_planck(l, t)\n",
    "    mult = get_mult(d, k_nu, b_nu)\n",
    "    mdust = mult * f * (const.M_sun.cgs/const.M_earth.cgs)\n",
    "\n",
    "    return round(mdust.value, 5)"
   ]
  },
  {
   "cell_type": "markdown",
   "id": "584625f6",
   "metadata": {},
   "source": [
    "============================= Code =================================="
   ]
  },
  {
   "cell_type": "code",
   "execution_count": null,
   "id": "a82a9c37",
   "metadata": {},
   "outputs": [],
   "source": [
    "### LOAD TABLES FROM PAPER\n",
    "T1 = Table.read('../input/apjaa2846t1_mrf.txt', format='ascii.cds')\n",
    "T2 = Table.read('../input/apjaa2846t2_mrf.txt', format='ascii.cds')\n",
    "T = join(T1, T2, join_type='inner')"
   ]
  },
  {
   "cell_type": "code",
   "execution_count": null,
   "id": "a12220a2",
   "metadata": {
    "lines_to_next_cell": 2
   },
   "outputs": [],
   "source": [
    "### GET DUST MASSES\n",
    "DM, e_DM = [], []\n",
    "for i, val in enumerate(T['Name']):\n",
    "\n",
    "    ### SET INPUTS TO DUST MASS CALCULATION\n",
    "    Beta_Index = 1.                   # DUST OPACITY POWER-LAW INDEX (UNITLESS)\n",
    "    Lambda_Obs = 890.                 # WAVELENGTH OF OBSERVATIONS (MICRONS)\n",
    "    Temp_Disk = 20.                   # DISK TEMPERATURE (KELVIN)\n",
    "    Dist_Disk = T['Dis'][i]           # DISTANCE TO DISK (PC)\n",
    "    Flux_Disk = T['FCont'][i]         # OBSERVED FLUX (mJy)\n",
    "    e_Flux_Disk = T['e_FCont'][i]     # ERROR ON OBSERVED FLUX (mJy)\n",
    "\n",
    "    ### CALCULATE DUST MASS\n",
    "    DM.append(get_dustmass(Beta_Index, Lambda_Obs, Flux_Disk, Dist_Disk, Temp_Disk))\n",
    "    e_DM.append(get_dustmass(Beta_Index, Lambda_Obs, Flux_Disk, Dist_Disk, Temp_Disk))"
   ]
  }
 ],
 "metadata": {
  "jupytext": {
   "cell_metadata_filter": "-all",
   "main_language": "python",
   "notebook_metadata_filter": "-all"
  },
  "kernelspec": {
   "display_name": "Python 3.9.2 64-bit",
   "language": "python",
   "name": "python3"
  },
  "language_info": {
   "codemirror_mode": {
    "name": "ipython",
    "version": 3
   },
   "file_extension": ".py",
   "mimetype": "text/x-python",
   "name": "python",
   "nbconvert_exporter": "python",
   "pygments_lexer": "ipython3",
   "version": "3.9.2"
  },
  "vscode": {
   "interpreter": {
    "hash": "31f2aee4e71d21fbe5cf8b01ff0e069b9275f58929596ceb00d14d90e3e16cd6"
   }
  }
 },
 "nbformat": 4,
 "nbformat_minor": 5
}
