{
 "cells": [
  {
   "cell_type": "markdown",
   "id": "c8202f13",
   "metadata": {},
   "source": [
    "======================== Import Packages =========================="
   ]
  },
  {
   "cell_type": "code",
   "execution_count": null,
   "id": "eb62aa15",
   "metadata": {
    "lines_to_next_cell": 2
   },
   "outputs": [],
   "source": [
    "import sys, pdb, glob\n",
    "import numpy as np\n",
    "from astropy.table import Table\n",
    "import pandas as pd\n",
    "from IPython.display import display"
   ]
  },
  {
   "cell_type": "markdown",
   "id": "3563a7ea",
   "metadata": {},
   "source": [
    "========================== Code =========================="
   ]
  },
  {
   "cell_type": "code",
   "execution_count": null,
   "id": "618e8c94",
   "metadata": {},
   "outputs": [],
   "source": [
    "### READ IN FULL TABLE FROM PAPER SUPPLEMENTAL MATERIAL\n",
    "T = Table.read('input/apjaa2846t3_mrf.txt', format='ascii.cds')\n",
    "df = T.to_pandas()"
   ]
  },
  {
   "cell_type": "code",
   "execution_count": null,
   "id": "c5c21449",
   "metadata": {},
   "outputs": [],
   "source": [
    "### DISPLAY FIRST 10 ROWS AS PANDAS DATAFRAME\n",
    "display(df.head(10))"
   ]
  },
  {
   "cell_type": "code",
   "execution_count": null,
   "id": "940d6c9a",
   "metadata": {
    "lines_to_next_cell": 2
   },
   "outputs": [],
   "source": [
    "### WRITE HEADER INFO\n",
    "f = open('output/table_03.tex', 'w')\n",
    "f.write(r'\\capstartfalse'                                  + ' \\n')\n",
    "f.write(r'\\begin{deluxetable*}{lrrrrrrr}'                    + ' \\n')\n",
    "f.write(r'\\tabletypesize{\\footnotesize}'                   + ' \\n')\n",
    "f.write(r'\\centering'                                      + ' \\n')\n",
    "f.write(r'\\tablewidth{500pt}'                              + ' \\n')\n",
    "f.write(r'\\tablecaption{Gas Properties \\label{tab-gas}}'   + ' \\n')\n",
    "f.write(r'\\tablecolumns{8} '                               + ' \\n')\n",
    "f.write(r'\\tablehead{'                                     + ' \\n')\n",
    "f.write(r' \\colhead{Source}'                               + ' \\n')\n",
    "f.write(r'&\\colhead{$F_{\\rm 13CO}$}'                       + ' \\n')\n",
    "f.write(r'&\\colhead{$E_{\\rm 13CO}$}'                       + ' \\n')\n",
    "f.write(r'&\\colhead{$F_{\\rm C18O}$}'                       + ' \\n')\n",
    "f.write(r'&\\colhead{$E_{\\rm C18O}$}'                       + ' \\n')\n",
    "f.write(r'&\\colhead{$M_{\\rm gas}$}'                        + ' \\n')\n",
    "f.write(r'&\\colhead{$M_{\\rm gas,min}$}'                    + ' \\n')\n",
    "f.write(r'&\\colhead{$M_{\\rm gas,max}$} \\\\'                 + ' \\n')\n",
    "f.write(r' \\colhead{}'                                     + ' \\n')\n",
    "f.write(r'&\\colhead{(mJy~km~s$^{-1}$)}'                    + ' \\n')\n",
    "f.write(r'&\\colhead{(mJy~km~s$^{-1}$)}'                    + ' \\n')\n",
    "f.write(r'&\\colhead{(mJy~km~s$^{-1}$)}'                    + ' \\n')\n",
    "f.write(r'&\\colhead{(mJy~km~s$^{-1}$)}'                    + ' \\n')\n",
    "f.write(r'&\\colhead{($M_{\\rm Jup}$)}'                      + ' \\n')\n",
    "f.write(r'&\\colhead{($M_{\\rm Jup}$)}'                      + ' \\n')\n",
    "f.write(r'&\\colhead{($M_{\\rm Jup}$)}'                      + ' \\n')\n",
    "f.write(r'}'                                               + ' \\n')\n",
    "f.write(r'\\startdata'                                      + ' \\n')"
   ]
  },
  {
   "cell_type": "code",
   "execution_count": null,
   "id": "335304e9",
   "metadata": {},
   "outputs": [],
   "source": [
    "lim = 10\n",
    "for i, val in enumerate(np.zeros(lim)):\n",
    "\n",
    "    source = T['Name'][i]\n",
    "\n",
    "    if np.ma.is_masked(T['l_Mgas'][i]) is True:\n",
    "        mgas = \"{0:01}\".format(T['Mgas'][i])\n",
    "\n",
    "    else:\n",
    "        mgas = r'$' + str(T['l_Mgas'][i]) + \"{0:01}\".format(T['Mgas'][i]) + r'$'\n",
    "\n",
    "    if np.ma.is_masked(T['b_Mgas'][i]) is True:\n",
    "        b_mgas = '...'\n",
    "    else:\n",
    "        b_mgas = r'$' + \"{0:01}\".format(T['b_Mgas'][i]) + r'$'\n",
    "\n",
    "    if np.ma.is_masked(T['B_Mgas'][i]) is True:\n",
    "        B_mgas = '...'\n",
    "    else:\n",
    "        B_mgas = r'$' + \"{0:01}\".format(T['B_Mgas'][i]) + r'$'\n",
    "\n",
    "\n",
    "    if np.ma.is_masked(T['l_F13CO'][i]) is True:\n",
    "        f13 = \"{0:0}\".format(T['F13CO'][i])\n",
    "        e13 = \"{0:0}\".format(T['e_F13CO'][i])\n",
    "    else:\n",
    "        f13 = r'$' + str(T['l_F13CO'][i]) + \"{0:0}\".format(T['F13CO'][i]) + r'$'\n",
    "        e13 = '...'\n",
    "\n",
    "\n",
    "    if np.ma.is_masked(T['l_F18CO'][i]) is True:\n",
    "        f18 = \"{0:0}\".format(T['F18CO'][i])\n",
    "        e18 = \"{0:0}\".format(T['e_F18CO'][i])\n",
    "    else:\n",
    "        f18 = r'$' + str(T['l_F18CO'][i]) + \"{0:0}\".format(T['F18CO'][i]) + r'$'\n",
    "        e18 = '...'\n",
    "\n",
    "\n",
    "    if (i < lim - 1):\n",
    "        end = r' \\\\' + '\\n'\n",
    "    else:\n",
    "        end = '\\n'\n",
    "\n",
    "    f.write(source + ' & ' + f13 + ' & ' + e13 + ' & ' + f18 + ' & ' + e18 + ' & ' + \n",
    "            mgas + ' & ' + b_mgas + ' & ' + B_mgas + end)"
   ]
  },
  {
   "cell_type": "code",
   "execution_count": null,
   "id": "40099a45",
   "metadata": {},
   "outputs": [],
   "source": [
    "f.write(r'\\enddata' + ' \\n')\n",
    "f.write(r'\\tablenotetext{}{(This table is available in its entirety in machine-readible form.)}' + ' \\n')\n",
    "f.write(r'\\end{deluxetable*}' + ' \\n')\n",
    "f.write(r'\\capstartfalse' + ' \\n')\n",
    "f.close()"
   ]
  }
 ],
 "metadata": {
  "jupytext": {
   "cell_metadata_filter": "-all",
   "main_language": "python",
   "notebook_metadata_filter": "-all"
  }
 },
 "nbformat": 4,
 "nbformat_minor": 5
}
