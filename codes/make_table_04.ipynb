{
 "cells": [
  {
   "cell_type": "markdown",
   "id": "a1e5e3e3",
   "metadata": {},
   "source": [
    "======================== Import Packages =========================="
   ]
  },
  {
   "cell_type": "code",
   "execution_count": null,
   "id": "faf63f73",
   "metadata": {},
   "outputs": [],
   "source": [
    "import sys, pdb, glob\n",
    "import numpy as np\n",
    "from astropy.table import Table\n",
    "import csv"
   ]
  },
  {
   "cell_type": "markdown",
   "id": "5c99e877",
   "metadata": {},
   "source": [
    "========================== Code =========================="
   ]
  },
  {
   "cell_type": "code",
   "execution_count": null,
   "id": "71965935",
   "metadata": {
    "lines_to_next_cell": 2
   },
   "outputs": [],
   "source": [
    "### READ IN TABLE FROM PAPER SUPPLEMENTAL MATERIAL\n",
    "with open('../input/apjaa2846t4_ascii.txt', newline='') as f:\n",
    "    name, ra, de, cont, gas13, gas18 = [],[],[],[],[],[]\n",
    "    reader = csv.reader(f, delimiter='\\t')\n",
    "    for i, row in enumerate(reader):            \n",
    "            if i >= 6:\n",
    "                name.append(row[0])\n",
    "                ra.append(row[1])\n",
    "                de.append(row[2])\n",
    "                cont.append(row[3])\n",
    "                gas13.append(row[4])\n",
    "                gas18.append(row[5])"
   ]
  },
  {
   "cell_type": "code",
   "execution_count": null,
   "id": "e22ae75b",
   "metadata": {},
   "outputs": [],
   "source": [
    "### WRITE HEADER INFO\n",
    "f = open('../output/table_04.tex', 'w')\n",
    "f.write(r'\\begin{table}[!htb]'                        + ' \\n')\n",
    "f.write(r'\\caption{Rejected Targets}'                 + ' \\n')\n",
    "f.write(r'\\label{tab-rejected}'                       + ' \\n')\n",
    "f.write(r'\\centering  '                               + ' \\n')\n",
    "f.write(r'\\begin{tabular}{lccrcc}'                    + ' \\n')\n",
    "f.write(r'\\hline\\hline'                               + ' \\n')\n",
    "f.write(r'Source & RA$_{\\rm J2000}$ & Dec$_{\\rm J2000}$ & $F_{\\rm cont}$ & $F_{\\rm 13CO}$} & $F_{\\rm C18O}$ \\\\' + ' \\n')\n",
    "f.write(r' &  &  & (mJy) & (mJy~km~s$^{-1}$) & (mJy~km~s$^{-1}$) \\\\' + ' \\n')\n",
    "f.write(r'\\hline' + ' \\n')"
   ]
  },
  {
   "cell_type": "code",
   "execution_count": null,
   "id": "6766dba5",
   "metadata": {
    "lines_to_next_cell": 2
   },
   "outputs": [],
   "source": [
    "### WRITE DATA\n",
    "for i, val in enumerate(name):\n",
    "\n",
    "    ### END OF LINE\n",
    "    if (i < len(name)):\n",
    "        end = r' \\\\' + '\\n'\n",
    "    else:\n",
    "        end = '\\n'\n",
    "\n",
    "    f.write(name[i] + ' & ' + ra[i] + ' & ' + de[i] + ' & ' + cont[i].replace('+or-', '$\\pm$') + ' & ' +  \n",
    "            gas13[i].replace('\\\\lt', '<') + ' & ' + gas18[i].replace('\\\\lt', '<') + end)"
   ]
  },
  {
   "cell_type": "code",
   "execution_count": null,
   "id": "5f93924a",
   "metadata": {
    "lines_to_next_cell": 2
   },
   "outputs": [],
   "source": [
    "f.write(r'\\hline'         + ' \\n')\n",
    "f.write(r'\\end{tabular}'  + ' \\n')\n",
    "f.write(r'\\end{table}'   + ' \\n')\n",
    "f.close()"
   ]
  }
 ],
 "metadata": {
  "jupytext": {
   "cell_metadata_filter": "-all",
   "main_language": "python",
   "notebook_metadata_filter": "-all"
  },
  "language_info": {
   "name": "python"
  }
 },
 "nbformat": 4,
 "nbformat_minor": 5
}
