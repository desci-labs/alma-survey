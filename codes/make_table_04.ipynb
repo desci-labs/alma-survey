{
 "cells": [
  {
   "cell_type": "markdown",
   "id": "473ae778",
   "metadata": {},
   "source": [
    "======================== Import Packages =========================="
   ]
  },
  {
   "cell_type": "code",
   "execution_count": null,
   "id": "17cd7c88",
   "metadata": {},
   "outputs": [],
   "source": [
    "import sys, pdb, glob\n",
    "import numpy as np\n",
    "import pandas as pd\n",
    "import csv\n",
    "from IPython.display import display"
   ]
  },
  {
   "cell_type": "markdown",
   "id": "1c2cd077",
   "metadata": {},
   "source": [
    "========================== Code =========================="
   ]
  },
  {
   "cell_type": "code",
   "execution_count": null,
   "id": "937691b8",
   "metadata": {},
   "outputs": [],
   "source": [
    "### READ IN TABLE FROM PAPER SUPPLEMENTAL MATERIAL\n",
    "with open('input/apjaa2846t4_ascii.txt', newline='') as f:\n",
    "    name, ra, de, cont, gas13, gas18 = [],[],[],[],[],[]\n",
    "    reader = csv.reader(f, delimiter='\\t')\n",
    "    for i, row in enumerate(reader):            \n",
    "            if i >= 6:\n",
    "                name.append(row[0])\n",
    "                ra.append(row[1])\n",
    "                de.append(row[2])\n",
    "                cont.append(row[3])\n",
    "                gas13.append(row[4])\n",
    "                gas18.append(row[5])"
   ]
  },
  {
   "cell_type": "code",
   "execution_count": null,
   "id": "41a7b68e",
   "metadata": {},
   "outputs": [],
   "source": [
    "# Create a Pandas DataFrame\n",
    "data = {'Source': name, 'RA': ra, 'Dec': de, 'F_cont': cont, 'F_13CO': gas13, 'F_C18O': gas18}\n",
    "df = pd.DataFrame(data)"
   ]
  },
  {
   "cell_type": "code",
   "execution_count": null,
   "id": "e57f2880",
   "metadata": {},
   "outputs": [],
   "source": [
    "# Display the Pandas DataFrame\n",
    "display(df)"
   ]
  },
  {
   "cell_type": "code",
   "execution_count": null,
   "id": "05fa6697",
   "metadata": {},
   "outputs": [],
   "source": [
    "### WRITE HEADER INFO\n",
    "f = open('output/table_04.tex', 'w')\n",
    "f.write(r'\\begin{table}[!htb]'                        + ' \\n')\n",
    "f.write(r'\\caption{Rejected Targets}'                 + ' \\n')\n",
    "f.write(r'\\label{tab-rejected}'                       + ' \\n')\n",
    "f.write(r'\\centering  '                               + ' \\n')\n",
    "f.write(r'\\begin{tabular}{lccrcc}'                    + ' \\n')\n",
    "f.write(r'\\hline\\hline'                               + ' \\n')\n",
    "f.write(r'Source & RA$_{\\rm J2000}$ & Dec$_{\\rm J2000}$ & $F_{\\rm cont}$ & $F_{\\rm 13CO}$} & $F_{\\rm C18O}$ \\\\' + ' \\n')\n",
    "f.write(r' &  &  & (mJy) & (mJy~km~s$^{-1}$) & (mJy~km~s$^{-1}$) \\\\' + ' \\n')\n",
    "f.write(r'\\hline' + ' \\n')"
   ]
  },
  {
   "cell_type": "code",
   "execution_count": null,
   "id": "06e36a15",
   "metadata": {},
   "outputs": [],
   "source": [
    "### WRITE DATA\n",
    "for i, row in df.iterrows():\n",
    "    end = r' \\\\' + '\\n'\n",
    "    f.write(row['Source'] + ' & ' + row['RA'] + ' & ' + row['Dec'] + ' & ' + row['F_cont'].replace('+or-', '$\\pm$') + ' & ' +\n",
    "            row['F_13CO'].replace('\\\\lt', '<') + ' & ' + row['F_C18O'].replace('\\\\lt', '<') + end)"
   ]
  },
  {
   "cell_type": "code",
   "execution_count": null,
   "id": "29632adc",
   "metadata": {},
   "outputs": [],
   "source": [
    "f.write(r'\\hline'         + ' \\n')\n",
    "f.write(r'\\end{tabular}'  + ' \\n')\n",
    "f.write(r'\\end{table}'   + ' \\n')\n",
    "f.close()"
   ]
  }
 ],
 "metadata": {
  "jupytext": {
   "cell_metadata_filter": "-all",
   "main_language": "python",
   "notebook_metadata_filter": "-all"
  },
  "language_info": {
   "name": "python"
  }
 },
 "nbformat": 4,
 "nbformat_minor": 5
}
