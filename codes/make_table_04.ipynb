{
 "cells": [
  {
   "cell_type": "markdown",
   "id": "473ae778",
   "metadata": {},
   "source": [
    "======================== Import Packages =========================="
   ]
  },
  {
   "cell_type": "code",
   "execution_count": 1,
   "id": "17cd7c88",
   "metadata": {},
   "outputs": [],
   "source": [
    "import sys, pdb, glob\n",
    "import numpy as np\n",
    "import pandas as pd\n",
    "import csv\n",
    "from IPython.display import display"
   ]
  },
  {
   "cell_type": "markdown",
   "id": "1c2cd077",
   "metadata": {},
   "source": [
    "========================== Code =========================="
   ]
  },
  {
   "cell_type": "code",
   "execution_count": 2,
   "id": "937691b8",
   "metadata": {},
   "outputs": [],
   "source": [
    "### READ IN TABLE FROM PAPER SUPPLEMENTAL MATERIAL\n",
    "with open('../input/apjaa2846t4_ascii.txt', newline='') as f:\n",
    "    name, ra, de, cont, gas13, gas18 = [],[],[],[],[],[]\n",
    "    reader = csv.reader(f, delimiter='\\t')\n",
    "    for i, row in enumerate(reader):            \n",
    "            if i >= 6:\n",
    "                name.append(row[0])\n",
    "                ra.append(row[1])\n",
    "                de.append(row[2])\n",
    "                cont.append(row[3])\n",
    "                gas13.append(row[4])\n",
    "                gas18.append(row[5])"
   ]
  },
  {
   "cell_type": "code",
   "execution_count": 3,
   "id": "41a7b68e",
   "metadata": {},
   "outputs": [],
   "source": [
    "# Create a Pandas DataFrame\n",
    "data = {'Source': name, 'RA': ra, 'Dec': de, 'F_cont': cont, 'F_13CO': gas13, 'F_C18O': gas18}\n",
    "df = pd.DataFrame(data)"
   ]
  },
  {
   "cell_type": "code",
   "execution_count": 4,
   "id": "e57f2880",
   "metadata": {},
   "outputs": [
    {
     "data": {
      "text/html": [
       "<div>\n",
       "<style scoped>\n",
       "    .dataframe tbody tr th:only-of-type {\n",
       "        vertical-align: middle;\n",
       "    }\n",
       "\n",
       "    .dataframe tbody tr th {\n",
       "        vertical-align: top;\n",
       "    }\n",
       "\n",
       "    .dataframe thead th {\n",
       "        text-align: right;\n",
       "    }\n",
       "</style>\n",
       "<table border=\"1\" class=\"dataframe\">\n",
       "  <thead>\n",
       "    <tr style=\"text-align: right;\">\n",
       "      <th></th>\n",
       "      <th>Source</th>\n",
       "      <th>RA</th>\n",
       "      <th>Dec</th>\n",
       "      <th>F_cont</th>\n",
       "      <th>F_13CO</th>\n",
       "      <th>F_C18O</th>\n",
       "    </tr>\n",
       "  </thead>\n",
       "  <tbody>\n",
       "    <tr>\n",
       "      <th>0</th>\n",
       "      <td>Sz78</td>\n",
       "      <td>15:53:41.18</td>\n",
       "      <td>-39:00:37.10</td>\n",
       "      <td>0.00 +or- 0.28</td>\n",
       "      <td>$\\lt 180$</td>\n",
       "      <td>$\\lt 207$</td>\n",
       "    </tr>\n",
       "    <tr>\n",
       "      <th>1</th>\n",
       "      <td>Sz79</td>\n",
       "      <td>15:53:42.68</td>\n",
       "      <td>-38:08:10.40</td>\n",
       "      <td>-0.55 +or- 0.27</td>\n",
       "      <td>$\\lt 168$</td>\n",
       "      <td>$\\lt 198$</td>\n",
       "    </tr>\n",
       "    <tr>\n",
       "      <th>2</th>\n",
       "      <td>J15594528-4154572</td>\n",
       "      <td>15:59:45.28</td>\n",
       "      <td>-41:54:57.20</td>\n",
       "      <td>0.12 +or- 0.19</td>\n",
       "      <td>$\\lt 105$</td>\n",
       "      <td>$\\lt 120$</td>\n",
       "    </tr>\n",
       "    <tr>\n",
       "      <th>3</th>\n",
       "      <td>J16000742-4149484</td>\n",
       "      <td>16:00:07.43</td>\n",
       "      <td>-41:49:48.90</td>\n",
       "      <td>-0.10 +or- 0.18</td>\n",
       "      <td>$\\lt 102$</td>\n",
       "      <td>$\\lt 120$</td>\n",
       "    </tr>\n",
       "    <tr>\n",
       "      <th>4</th>\n",
       "      <td>J16070863-3947219</td>\n",
       "      <td>16:07:08.64</td>\n",
       "      <td>-39:47:22.70</td>\n",
       "      <td>0.38 +or- 0.30</td>\n",
       "      <td>$\\lt 189$</td>\n",
       "      <td>$\\lt 219$</td>\n",
       "    </tr>\n",
       "    <tr>\n",
       "      <th>5</th>\n",
       "      <td>J16080618-3912225</td>\n",
       "      <td>16:08:06.17</td>\n",
       "      <td>-39:12:22.50</td>\n",
       "      <td>0.34 +or- 0.23</td>\n",
       "      <td>$\\lt 102$</td>\n",
       "      <td>$\\lt 120$</td>\n",
       "    </tr>\n",
       "    <tr>\n",
       "      <th>6</th>\n",
       "      <td>J16114865-3817580</td>\n",
       "      <td>16:11:48.67</td>\n",
       "      <td>-38:17:58.30</td>\n",
       "      <td>0.12 +or- 0.30</td>\n",
       "      <td>$\\lt 189$</td>\n",
       "      <td>$\\lt 234$</td>\n",
       "    </tr>\n",
       "    <tr>\n",
       "      <th>7</th>\n",
       "      <td>J16122269-3713276</td>\n",
       "      <td>16:12:22.73</td>\n",
       "      <td>-37:13:27.60</td>\n",
       "      <td>-0.04 +or- 0.59</td>\n",
       "      <td>$\\lt 171$</td>\n",
       "      <td>$\\lt 204$</td>\n",
       "    </tr>\n",
       "  </tbody>\n",
       "</table>\n",
       "</div>"
      ],
      "text/plain": [
       "              Source           RA           Dec           F_cont     F_13CO  \\\n",
       "0               Sz78  15:53:41.18  -39:00:37.10   0.00 +or- 0.28  $\\lt 180$   \n",
       "1               Sz79  15:53:42.68  -38:08:10.40  -0.55 +or- 0.27  $\\lt 168$   \n",
       "2  J15594528-4154572  15:59:45.28  -41:54:57.20   0.12 +or- 0.19  $\\lt 105$   \n",
       "3  J16000742-4149484  16:00:07.43  -41:49:48.90  -0.10 +or- 0.18  $\\lt 102$   \n",
       "4  J16070863-3947219  16:07:08.64  -39:47:22.70   0.38 +or- 0.30  $\\lt 189$   \n",
       "5  J16080618-3912225  16:08:06.17  -39:12:22.50   0.34 +or- 0.23  $\\lt 102$   \n",
       "6  J16114865-3817580  16:11:48.67  -38:17:58.30   0.12 +or- 0.30  $\\lt 189$   \n",
       "7  J16122269-3713276  16:12:22.73  -37:13:27.60  -0.04 +or- 0.59  $\\lt 171$   \n",
       "\n",
       "      F_C18O  \n",
       "0  $\\lt 207$  \n",
       "1  $\\lt 198$  \n",
       "2  $\\lt 120$  \n",
       "3  $\\lt 120$  \n",
       "4  $\\lt 219$  \n",
       "5  $\\lt 120$  \n",
       "6  $\\lt 234$  \n",
       "7  $\\lt 204$  "
      ]
     },
     "metadata": {},
     "output_type": "display_data"
    }
   ],
   "source": [
    "# Display the Pandas DataFrame\n",
    "display(df)"
   ]
  },
  {
   "cell_type": "code",
   "execution_count": 5,
   "id": "05fa6697",
   "metadata": {},
   "outputs": [
    {
     "data": {
      "text/plain": [
       "8"
      ]
     },
     "execution_count": 5,
     "metadata": {},
     "output_type": "execute_result"
    }
   ],
   "source": [
    "### WRITE HEADER INFO\n",
    "f = open('../output/table_04.tex', 'w')\n",
    "f.write(r'\\begin{table}[!htb]'                        + ' \\n')\n",
    "f.write(r'\\caption{Rejected Targets}'                 + ' \\n')\n",
    "f.write(r'\\label{tab-rejected}'                       + ' \\n')\n",
    "f.write(r'\\centering  '                               + ' \\n')\n",
    "f.write(r'\\begin{tabular}{lccrcc}'                    + ' \\n')\n",
    "f.write(r'\\hline\\hline'                               + ' \\n')\n",
    "f.write(r'Source & RA$_{\\rm J2000}$ & Dec$_{\\rm J2000}$ & $F_{\\rm cont}$ & $F_{\\rm 13CO}$} & $F_{\\rm C18O}$ \\\\' + ' \\n')\n",
    "f.write(r' &  &  & (mJy) & (mJy~km~s$^{-1}$) & (mJy~km~s$^{-1}$) \\\\' + ' \\n')\n",
    "f.write(r'\\hline' + ' \\n')"
   ]
  },
  {
   "cell_type": "code",
   "execution_count": 6,
   "id": "06e36a15",
   "metadata": {},
   "outputs": [],
   "source": [
    "### WRITE DATA\n",
    "for i, row in df.iterrows():\n",
    "    end = r' \\\\' + '\\n'\n",
    "    f.write(row['Source'] + ' & ' + row['RA'] + ' & ' + row['Dec'] + ' & ' + row['F_cont'].replace('+or-', '$\\pm$') + ' & ' +\n",
    "            row['F_13CO'].replace('\\\\lt', '<') + ' & ' + row['F_C18O'].replace('\\\\lt', '<') + end)"
   ]
  },
  {
   "cell_type": "code",
   "execution_count": 7,
   "id": "29632adc",
   "metadata": {},
   "outputs": [],
   "source": [
    "f.write(r'\\hline'         + ' \\n')\n",
    "f.write(r'\\end{tabular}'  + ' \\n')\n",
    "f.write(r'\\end{table}'   + ' \\n')\n",
    "f.close()"
   ]
  }
 ],
 "metadata": {
  "jupytext": {
   "cell_metadata_filter": "-all",
   "main_language": "python",
   "notebook_metadata_filter": "-all"
  },
  "kernelspec": {
   "display_name": "Python 3.9.2 64-bit",
   "language": "python",
   "name": "python3"
  },
  "language_info": {
   "codemirror_mode": {
    "name": "ipython",
    "version": 3
   },
   "file_extension": ".py",
   "mimetype": "text/x-python",
   "name": "python",
   "nbconvert_exporter": "python",
   "pygments_lexer": "ipython3",
   "version": "3.9.2"
  },
  "vscode": {
   "interpreter": {
    "hash": "31f2aee4e71d21fbe5cf8b01ff0e069b9275f58929596ceb00d14d90e3e16cd6"
   }
  }
 },
 "nbformat": 4,
 "nbformat_minor": 5
}
