{
 "cells": [
  {
   "cell_type": "markdown",
   "id": "828a39db",
   "metadata": {},
   "source": [
    "======================== Import Packages =========================="
   ]
  },
  {
   "cell_type": "code",
   "execution_count": null,
   "id": "fa7bb3d1",
   "metadata": {
    "lines_to_next_cell": 2
   },
   "outputs": [],
   "source": [
    "import sys, pdb, glob\n",
    "import numpy as np\n",
    "from astropy.table import Table"
   ]
  },
  {
   "cell_type": "markdown",
   "id": "ba17109c",
   "metadata": {},
   "source": [
    "========================== Code =========================="
   ]
  },
  {
   "cell_type": "code",
   "execution_count": null,
   "id": "d5726b6c",
   "metadata": {},
   "outputs": [],
   "source": [
    "### READ IN FULL TABLE FROM PAPER SUPPLEMENTAL MATERIAL\n",
    "T = Table.read('../input/apjaa2846t2_mrf.txt', format='ascii.cds')"
   ]
  },
  {
   "cell_type": "code",
   "execution_count": null,
   "id": "52c2d359",
   "metadata": {},
   "outputs": [],
   "source": [
    "### WRITE HEADER INFO\n",
    "f = open('../output/table_02.tex', 'w')\n",
    "f.write(r'\\capstartfalse'                                  + ' \\n')\n",
    "f.write(r'\\begin{deluxetable*}{lrrrccccr}'                 + ' \\n')\n",
    "f.write(r'\\tabletypesize{\\footnotesize}'                   + ' \\n')\n",
    "f.write(r'\\centering'                                      + ' \\n')\n",
    "f.write(r'\\tablewidth{500pt}'                              + ' \\n')\n",
    "f.write(r'\\tablecaption{$890~\\mu$m Continuum Properties \\label{tab-cont}}' + ' \\n')\n",
    "f.write(r'\\tablecolumns{9} '                               + ' \\n')\n",
    "f.write(r'\\tablehead{'                                     + ' \\n')\n",
    "f.write(r' \\colhead{Source}'                               + ' \\n')\n",
    "f.write(r'&\\colhead{RA$_{\\rm J2000}$}'                     + ' \\n')\n",
    "f.write(r'&\\colhead{Dec$_{\\rm J2000}$}'                    + ' \\n')\n",
    "f.write(r'&\\colhead{$F_{\\rm cont}$}'                       + ' \\n')\n",
    "f.write(r'&\\colhead{rms}'                                  + ' \\n')\n",
    "f.write(r'&\\colhead{$a$}'                                  + ' \\n')\n",
    "f.write(r'&\\colhead{$i$}'                                  + ' \\n')\n",
    "f.write(r'&\\colhead{PA}'                                   + ' \\n')\n",
    "f.write(r'&\\colhead{$M_{\\rm dust}$} \\\\'                    + ' \\n')\n",
    "f.write(r' \\colhead{}'                                     + ' \\n')\n",
    "f.write(r'&\\colhead{}'                                     + ' \\n')\n",
    "f.write(r'&\\colhead{}'                                     + ' \\n')\n",
    "f.write(r'&\\colhead{(mJy)}'                                + ' \\n')\n",
    "f.write(r'&\\colhead{(mJy beam$^{-1}$)}'                    + ' \\n')\n",
    "f.write(r'&\\colhead{arcsec}'                               + ' \\n')\n",
    "f.write(r'&\\colhead{deg}'                                  + ' \\n')\n",
    "f.write(r'&\\colhead{(deg)}'                                + ' \\n')\n",
    "f.write(r'&\\colhead{($M_{\\oplus}$)}'                       + ' \\n')\n",
    "f.write(r'}'                                               + ' \\n')\n",
    "f.write(r'\\startdata'                                      + ' \\n')"
   ]
  },
  {
   "cell_type": "code",
   "execution_count": null,
   "id": "e7f51ac1",
   "metadata": {},
   "outputs": [],
   "source": [
    "### WRITE FIRST 10 LINES\n",
    "lim = 10\n",
    "for i, val in enumerate(np.zeros(lim)):\n",
    "\n",
    "    source = T['Name'][i]\n",
    "\n",
    "    de = str(T['DE-'][i]) + \"{0:02}\".format(T['DEd'][i]) + ':' + \"{0:02}\".format(T['DEm'][i]) + ':' + \"{0:05.2f}\".format(T['DEs'][i])\n",
    "    ra = \"{0:02}\".format(T['RAh'][i]) + ':' + \"{0:02}\".format(T['RAm'][i]) + ':' + \"{0:05.2f}\".format(T['RAs'][i])\n",
    "\n",
    "    flx = \"{0:.2f}\".format(T['FCont'][i]) + r' $\\pm$ ' + \"{0:.2f}\".format(T['e_FCont'][i])\n",
    "    rms = \"{0:.2f}\".format(T['rms'][i])\n",
    "    mdust = str(T['MDust'][i]) + r' $\\pm$ ' + str(T['e_MDust'][i])\n",
    "\n",
    "    if np.ma.is_masked(T['a'][i]) is True:\n",
    "        bmaj = '...'\n",
    "    else:\n",
    "        bmaj  = str(T['a'][i]) + r' $\\pm$ ' + str(T['e_a'][i])\n",
    "\n",
    "    if np.ma.is_masked(T['i'][i]) is True:\n",
    "        incl = '...'\n",
    "    elif np.ma.is_masked(T['e_i'][i]) is True:\n",
    "        incl = str(T['i'][i])\n",
    "    else:\n",
    "        incl  = str(T['i'][i]) + r' $\\pm$ ' + str(T['e_i'][i])\n",
    "\n",
    "    if np.ma.is_masked(T['PosAng'][i]) is True:\n",
    "        pang = '...'\n",
    "    elif np.ma.is_masked(T['e_PosAng'][i]) is True:\n",
    "        pang = str(T['PosAng'][i])\n",
    "    else:\n",
    "        pang  = str(T['PosAng'][i]) + r' $\\pm$ ' + str(T['e_PosAng'][i])\n",
    "\n",
    "    ### END OF LINE\n",
    "    if (i < lim - 1):\n",
    "        end = r' \\\\' + '\\n'\n",
    "    else:\n",
    "        end = '\\n'\n",
    "\n",
    "    f.write(source + ' & ' + ra + ' & ' + de + ' & ' + flx + ' & ' + rms + ' & ' + \n",
    "            bmaj + ' & ' + incl + ' & ' + pang + ' & ' + mdust + end)"
   ]
  },
  {
   "cell_type": "code",
   "execution_count": null,
   "id": "b817c540",
   "metadata": {
    "lines_to_next_cell": 2
   },
   "outputs": [],
   "source": [
    "f.write(r'\\enddata' + ' \\n')\n",
    "f.write(r'\\tablenotetext{}{(This table is available in its entirety in machine-readible form.)}' + ' \\n')\n",
    "f.write(r'\\end{deluxetable*}' + ' \\n')\n",
    "f.write(r'\\capstartfalse' + ' \\n')\n",
    "f.close()"
   ]
  }
 ],
 "metadata": {
  "jupytext": {
   "cell_metadata_filter": "-all",
   "main_language": "python",
   "notebook_metadata_filter": "-all"
  },
  "language_info": {
   "name": "python"
  }
 },
 "nbformat": 4,
 "nbformat_minor": 5
}
