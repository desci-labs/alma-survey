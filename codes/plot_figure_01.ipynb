{
 "cells": [
  {
   "cell_type": "code",
   "execution_count": null,
   "id": "5b07e61d",
   "metadata": {},
   "outputs": [],
   "source": [
    "\"\"\"\n",
    "NOTE: units for \"e_Mass\" in \"t1_mrf.txt\" should be changed to \"solMass\"\n",
    "      for compatibility with astropy.Table.read \"ascii.cds\" format\n",
    "\n",
    "\"\"\""
   ]
  },
  {
   "cell_type": "markdown",
   "id": "4e09d3ee",
   "metadata": {},
   "source": [
    "===================== Import Packages ===================="
   ]
  },
  {
   "cell_type": "code",
   "execution_count": null,
   "id": "fa8d3ab7",
   "metadata": {},
   "outputs": [],
   "source": [
    "import sys, os, pdb, glob\n",
    "import numpy as np\n",
    "import matplotlib as mpl\n",
    "import matplotlib.pyplot as plt\n",
    "from astropy.table import Table, join, MaskedColumn"
   ]
  },
  {
   "cell_type": "markdown",
   "id": "b33e6d1d",
   "metadata": {},
   "source": [
    "===================== Define Functions ==================="
   ]
  },
  {
   "cell_type": "code",
   "execution_count": null,
   "id": "04c31618",
   "metadata": {},
   "outputs": [],
   "source": [
    "def spt_coding(spt):\n",
    "\n",
    "    \"\"\"\n",
    "    PURPOSE:    Translate spectral type (e.g., M7) into numerical value\n",
    "                that can be used for plotting a histogram\n",
    "\n",
    "                Scale is 0 at M0, -1 at K7, -8 at K0, -18 at G0\n",
    "                (K8 is counted as M0)\n",
    "\n",
    "    INPUT:      spt = numpy array of spectral types (str, masked)\n",
    "                (masked values are unknonw spectral types)\n",
    "\n",
    "    OUTPUT:     spt_num = numpy array of numerical spectral types (obj, masked)\n",
    "                (returns -99. if unknown spectral type)\n",
    "    \n",
    "    \"\"\"\n",
    "\n",
    "    spt_num = np.empty(len(spt), dtype=object)\n",
    "    for i, val in enumerate(spt):\n",
    "\n",
    "        if np.ma.is_masked(val):\n",
    "            spt_num[i] = -99.\n",
    "\n",
    "        else:\n",
    "\n",
    "            if val == 'M1+M2':\n",
    "                val = 'M1.5'\n",
    "            if val[0] == 'M':\n",
    "                spt_num[i] = float(val[1:])\n",
    "            if val[0] == 'K':\n",
    "                spt_num[i] = float(val[1:]) - 8.\n",
    "            if val[0] == 'G':\n",
    "                spt_num[i] = float(val[1:]) - 18.\n",
    "            if val[0] == 'F':\n",
    "                spt_num[i] = float(val[1:]) - 28.\n",
    "            if val[0] == 'A':\n",
    "                spt_num[i] = float(val[1:]) - 38.\n",
    " \n",
    "    return spt_num"
   ]
  },
  {
   "cell_type": "markdown",
   "id": "60c3a11a",
   "metadata": {},
   "source": [
    "========================== Code =========================="
   ]
  },
  {
   "cell_type": "code",
   "execution_count": null,
   "id": "3c830e7c",
   "metadata": {},
   "outputs": [],
   "source": [
    "#### LOAD IN TABLES FROM PAPER SUPPLEMENTAL MATERIAL\n",
    "Table_Sample = Table.read('../input/apjaa2846t1_mrf.txt', format='ascii.cds')\n",
    "Table_Obs = Table.read('../input/apjaa2846t2_mrf.txt', format='ascii.cds')\n",
    "Table_All = join(Table_Sample, Table_Obs, join_type='outer')"
   ]
  },
  {
   "cell_type": "code",
   "execution_count": null,
   "id": "4fbbb382",
   "metadata": {},
   "outputs": [],
   "source": [
    "### FLAG UNDETECTED SOURCES\n",
    "Table_All.add_column(MaskedColumn(name='Detected', data=Table_All['FCont']/Table_All['e_FCont'] > 3.0))"
   ]
  },
  {
   "cell_type": "code",
   "execution_count": null,
   "id": "cdc34c88",
   "metadata": {},
   "outputs": [],
   "source": [
    "### GET SPECTRAL TYPE CODING FOR PLOTTING (ALL, NON-DETECTIONS, UNOBSERVED)\n",
    "Spt_All = spt_coding(Table_All['SpType'])\n",
    "Spt_Ndt = spt_coding(Table_All['SpType'][np.where(~Table_All['Detected'])])\n",
    "Spt_Obs = spt_coding(Table_All['SpType'][~Table_All['FCont'].mask])"
   ]
  },
  {
   "cell_type": "code",
   "execution_count": null,
   "id": "9d5cf1b2",
   "metadata": {},
   "outputs": [],
   "source": [
    "### SETUP PLOT\n",
    "mpl.rc('xtick', labelsize=15)\n",
    "mpl.rc('ytick', labelsize=15)\n",
    "mpl.rc('xtick.major', size=3, pad=7, width=1.5)\n",
    "mpl.rc('ytick.major', size=3, pad=7, width=1.5)\n",
    "mpl.rc('axes', linewidth=1.5)\n",
    "mpl.rc('lines', markersize=5)\n",
    "fig = plt.figure(figsize=(8, 6))\n",
    "ax = fig.add_subplot(111)\n",
    "ax.set_xlabel('Spectral Type', fontsize=17)\n",
    "ax.set_ylabel(\"Number of Sources\", fontsize=17)\n",
    "ax.xaxis.set_ticks_position('bottom')\n",
    "ax.yaxis.set_ticks_position('left')\n",
    "nxticks    = np.arange(-33, 9, 1)\n",
    "ticklabels = np.array(['A5', '', '', '', '', 'F0', '', '', '', '', 'F5', '', '', '', '', 'G0', '', '', '', '', 'G5', '', '', '', '',\n",
    "                        'K0', '', '', '', '', 'K5', '', '', 'M0', '', '', 'M3', '', '', '', 'M7', ''])\n",
    "ax.set_xticks(nxticks)\n",
    "ax.set_xticklabels(ticklabels)\n",
    "ax.set_xlim(np.min(nxticks), np.max(nxticks))\n",
    "ax.set_ylim(0, 25)"
   ]
  },
  {
   "cell_type": "code",
   "execution_count": null,
   "id": "b35cd139",
   "metadata": {},
   "outputs": [],
   "source": [
    "### PLOT DIFFERENT SAMPLES\n",
    "bins_spt = np.arange(-33, 9, 2)\n",
    "ax.hist(Spt_All, bins_spt, align='left', lw=2, histtype='step', color='black', label='All Sources')\n",
    "ax.hist(Spt_Obs, bins_spt, align='left', facecolor='lightblue', hatch='//', lw=2, histtype='stepfilled', label='Observed', edgecolor='black')\n",
    "ax.hist(Spt_Ndt, bins_spt, align='left', color='red', lw=2, histtype='step', label='Undetected')\n",
    "ax.legend(loc='upper left', prop={'size': 16}, edgecolor='black')"
   ]
  },
  {
   "cell_type": "code",
   "execution_count": null,
   "id": "beebcec0",
   "metadata": {},
   "outputs": [],
   "source": [
    "### SAVE FIGURE\n",
    "fig.savefig('../output/figure_01.pdf', bbox_inches='tight', dpi=100)\n",
    "plt.close('all')"
   ]
  }
 ],
 "metadata": {
  "jupytext": {
   "cell_metadata_filter": "-all",
   "main_language": "python",
   "notebook_metadata_filter": "-all"
  },
  "language_info": {
   "name": "python"
  }
 },
 "nbformat": 4,
 "nbformat_minor": 5
}
