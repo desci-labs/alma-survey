{
 "cells": [
  {
   "cell_type": "markdown",
   "id": "eda344e7",
   "metadata": {},
   "source": [
    "======================== Import Packages =========================="
   ]
  },
  {
   "cell_type": "code",
   "execution_count": 1,
   "id": "9b6b9cc2",
   "metadata": {},
   "outputs": [],
   "source": [
    "import sys, os, pdb, glob\n",
    "import numpy as np\n",
    "import matplotlib as mpl\n",
    "import matplotlib.pyplot as plt\n",
    "from astropy.io import fits\n",
    "from astropy.table import Table, join\n",
    "from astropy.coordinates import SkyCoord\n",
    "from astropy import units as u"
   ]
  },
  {
   "cell_type": "markdown",
   "id": "6876e82b",
   "metadata": {},
   "source": [
    "===================== Define Functions ==================="
   ]
  },
  {
   "cell_type": "code",
   "execution_count": 2,
   "id": "64e69a55",
   "metadata": {},
   "outputs": [],
   "source": [
    "def readfits(file):\n",
    "\n",
    "    \"\"\"\n",
    "    PURPOSE:    Read in FITS file and header info\n",
    "\n",
    "    INPUT:      Path to FITS file (str)\n",
    "\n",
    "    OUTPUT:     Image (float arr)\n",
    "                Image center coordinates in pixels (float)\n",
    "                Image pixel width in deg/pix units (float)\n",
    "                Beam major axis, minor axis, position angle (float)\n",
    "                Image center coordinates in deg units (float)\n",
    "\n",
    "    \"\"\"\n",
    "\n",
    "    ### READ IN FITS FILE\n",
    "    hdulist = fits.open(file)\n",
    "    data = hdulist[0].data[0, 0, :, :]\n",
    "    head = hdulist[0].header\n",
    "    hdulist.close()\n",
    "\n",
    "    ### GET HEADER INFO\n",
    "    xcen = head['CRPIX1']\n",
    "    ycen = head['CRPIX2']\n",
    "    xpix = head['CDELT1']\n",
    "    ypix = head['CDELT2']\n",
    "    xcen_ra = head['CRVAL1']\n",
    "    xcen_de = head['CRVAL2']\n",
    "    bmaj = head['bmaj']\n",
    "    bmin = head['bmin']\n",
    "    bpa  = head['bpa']\n",
    "\n",
    "    return(data, xcen, ycen, xpix, ypix, bmaj, bmin, bpa, xcen_ra, xcen_de)"
   ]
  },
  {
   "cell_type": "code",
   "execution_count": 3,
   "id": "3a5a1486",
   "metadata": {},
   "outputs": [],
   "source": [
    "def write_fits(img, line, i, xpix_all, ypix_all, bmaj_all, bmin_all, bpa_all):\n",
    "\n",
    "    \"\"\"\n",
    "    PURPOSE:    Write FITS file and header info\n",
    "\n",
    "    INPUT:      Image to write (array)\n",
    "                Line that was stacked (str)\n",
    "                Pixel width in deg/pix units for all images in stack (array)\n",
    "                Beam major axis, minor axis, position angle for all images in stack (array)\n",
    "\n",
    "    OUTPUT:     Stacked image (FITS file)\n",
    "\n",
    "    \"\"\"\n",
    "\n",
    "    os.system('rm output/stack_nd_'+line+'_'+str(i)+'.fits')\n",
    "    hdu = fits.PrimaryHDU()\n",
    "    hdu.data = img\n",
    "\n",
    "    hdu.header['CRPIX1'] = hdu.header['NAXIS1']/2\n",
    "    hdu.header['CRPIX2'] = hdu.header['NAXIS2']/2\n",
    "    hdu.header['bmaj'] = bmaj_all.mean()\n",
    "    hdu.header['bmin'] = bmin_all.mean()\n",
    "    hdu.header['bpa'] = bpa_all.mean()\n",
    "    hdu.header['cdelt1'] = xpix_all.mean()\n",
    "    hdu.header['cdelt2'] = ypix_all.mean()\n",
    "\n",
    "    hdu.writeto('output/stack_nd_'+line+'_'+str(i)+'.fits')"
   ]
  },
  {
   "cell_type": "code",
   "execution_count": 4,
   "id": "fc99fd99",
   "metadata": {},
   "outputs": [],
   "source": [
    "def crop_img(file_img, hw_as, c_obj):\n",
    "\n",
    "    ### LOAD IMAGE AND GET CENTER COORDINATES\n",
    "    img, xcen_img, ycen_img, xpix_img, ypix_img, bmaj_img, bmin_img, bpa_img, xcen_ra_img, ycen_de_img = readfits(file_img)\n",
    "    c_img = SkyCoord(xcen_ra_img, ycen_de_img, frame='icrs', unit='deg')\n",
    "    \n",
    "    ### CENTER IMAGE ON OBJECT LOCATION \n",
    "    dra, ddec = c_img.spherical_offsets_to(c_obj)\n",
    "    width_pix = int(round(hw_as / (ypix_img * 3600.0)))\n",
    "    xctr = xcen_img + dra.value / xpix_img\n",
    "    yctr = ycen_img + ddec.value / ypix_img\n",
    "\n",
    "    ### CROP IMAGE\n",
    "    img = img[int(round(yctr - width_pix)):int(round(yctr + width_pix)),\n",
    "              int(round(xctr - width_pix)):int(round(xctr + width_pix))]\n",
    "    \n",
    "    return img, width_pix, xpix_img, ypix_img, bmaj_img, bmin_img, bpa_img"
   ]
  },
  {
   "cell_type": "code",
   "execution_count": 5,
   "id": "08559d90",
   "metadata": {
    "lines_to_next_cell": 2
   },
   "outputs": [],
   "source": [
    "def stackme(t, line):\n",
    "\n",
    "    \"\"\"\n",
    "    PURPOSE:    Stack image\n",
    "\n",
    "    INPUT:      Table of sources to be stacked (AstroPy Table)\n",
    "                Line name (str; must be 'cont', '13CO', C18O')\n",
    "\n",
    "    OUTPUT:     Stacked image (array)\n",
    "                Pixel width in deg/pix units for all images in stack (array)\n",
    "                Beam major axis, minor axis, position angle for all images in stack (array)\n",
    "\n",
    "    \"\"\"\n",
    "\n",
    "    xpix_all, ypix_all = np.empty(len(t)), np.empty(len(t))\n",
    "    bmaj_all, bmin_all, bpa_all = np.empty(len(t)), np.empty(len(t)), np.empty(len(t))\n",
    "    \n",
    "    for i,val in enumerate(t['Name']):\n",
    "\n",
    "        if (line == 'C18O'): suffix = '_c18o32.mom0.fits'\n",
    "        if (line == '13CO'): suffix = '_13co32.mom0.fits'\n",
    "        if (line == 'cont'):   suffix = '_cont.fits'\n",
    "\n",
    "        file_img = 'data/' + val + suffix\n",
    "        file_img = file_img.replace(' ', '_')\n",
    "        if os.path.isfile(file_img) is False:\n",
    "            print('missing FITS file for ' + val, line)\n",
    "            pdb.set_trace()\n",
    "\n",
    "        ### GET COORDINATES OF OBJECT FROM PAPER TABLE\n",
    "        de_obj = str(t['DE-'][i]) + str(t['DEd'][i]) + 'd' + str(t['DEm'][i]) + 'm' + str(t['DEs'][i]) + 's'\n",
    "        ra_obj = str(t['RAh'][i]) + 'h' + str(t['RAm'][i]) + 'm' + str(t['RAs'][i]) + 's'\n",
    "        c_obj = SkyCoord(ra_obj, de_obj, frame='icrs')\n",
    "\n",
    "        img_cont, width_pix, xpix_img, ypix_img, bmaj_img, bmin_img, bpa_img = crop_img(file_img, 8.0, c_obj)\n",
    "        \n",
    "        ### SCALE WITH DISTANCE AND PUT INTO MJY UNITS\n",
    "        img_cont = 1e3 * img_cont * ((t['Dis'][i] / 200.)**2)\n",
    "\n",
    "\n",
    "        xpix_all[i], ypix_all[i] = xpix_img, ypix_img\n",
    "        bmaj_all[i], bmin_all[i], bpa_all[i] = bmaj_img, bmin_img, bpa_img\n",
    "\n",
    "        if (i==0):\n",
    "            img_all = np.zeros([2 * width_pix, 2 * width_pix, 1])\n",
    "            temp = img_cont.reshape((2 * width_pix, 2 * width_pix, 1))\n",
    "            img_all = temp\n",
    "            \n",
    "        else:\n",
    "            temp = img_cont.reshape((2 * width_pix, 2 * width_pix, 1))\n",
    "            img_all = np.append(img_all, temp, axis=2)\n",
    "\n",
    "    stacked = np.sum(img_all, 2) / len(t)\n",
    "\n",
    "    return stacked, xpix_all, ypix_all, bmaj_all, bmin_all, bpa_all"
   ]
  },
  {
   "cell_type": "markdown",
   "id": "6605725c",
   "metadata": {},
   "source": [
    "========================== Code =========================="
   ]
  },
  {
   "cell_type": "code",
   "execution_count": 7,
   "id": "7b617163",
   "metadata": {},
   "outputs": [
    {
     "ename": "FileNotFoundError",
     "evalue": "[Errno 2] No such file or directory: '../input/t1_mrf.txt'",
     "output_type": "error",
     "traceback": [
      "\u001b[0;31m---------------------------------------------------------------------------\u001b[0m",
      "\u001b[0;31mFileNotFoundError\u001b[0m                         Traceback (most recent call last)",
      "Cell \u001b[0;32mIn [7], line 2\u001b[0m\n\u001b[1;32m      1\u001b[0m \u001b[38;5;66;03m#### LOAD IN TABLES FROM PAPER SUPPLEMENTAL MATERIAL\u001b[39;00m\n\u001b[0;32m----> 2\u001b[0m TS \u001b[38;5;241m=\u001b[39m \u001b[43mTable\u001b[49m\u001b[38;5;241;43m.\u001b[39;49m\u001b[43mread\u001b[49m\u001b[43m(\u001b[49m\u001b[38;5;124;43m'\u001b[39;49m\u001b[38;5;124;43m../input/t1_mrf.txt\u001b[39;49m\u001b[38;5;124;43m'\u001b[39;49m\u001b[43m,\u001b[49m\u001b[43m \u001b[49m\u001b[38;5;28;43mformat\u001b[39;49m\u001b[38;5;241;43m=\u001b[39;49m\u001b[38;5;124;43m'\u001b[39;49m\u001b[38;5;124;43mascii.cds\u001b[39;49m\u001b[38;5;124;43m'\u001b[39;49m\u001b[43m)\u001b[49m\n\u001b[1;32m      3\u001b[0m TD \u001b[38;5;241m=\u001b[39m Table\u001b[38;5;241m.\u001b[39mread(\u001b[38;5;124m'\u001b[39m\u001b[38;5;124m../input/t2_mrf.txt\u001b[39m\u001b[38;5;124m'\u001b[39m, \u001b[38;5;28mformat\u001b[39m\u001b[38;5;241m=\u001b[39m\u001b[38;5;124m'\u001b[39m\u001b[38;5;124mascii.cds\u001b[39m\u001b[38;5;124m'\u001b[39m)\n\u001b[1;32m      4\u001b[0m TG \u001b[38;5;241m=\u001b[39m Table\u001b[38;5;241m.\u001b[39mread(\u001b[38;5;124m'\u001b[39m\u001b[38;5;124m../input/t3_mrf.txt\u001b[39m\u001b[38;5;124m'\u001b[39m, \u001b[38;5;28mformat\u001b[39m\u001b[38;5;241m=\u001b[39m\u001b[38;5;124m'\u001b[39m\u001b[38;5;124mascii.cds\u001b[39m\u001b[38;5;124m'\u001b[39m)\n",
      "File \u001b[0;32m~/.local/lib/python3.9/site-packages/astropy/table/connect.py:62\u001b[0m, in \u001b[0;36mTableRead.__call__\u001b[0;34m(self, *args, **kwargs)\u001b[0m\n\u001b[1;32m     59\u001b[0m units \u001b[39m=\u001b[39m kwargs\u001b[39m.\u001b[39mpop(\u001b[39m\"\u001b[39m\u001b[39munits\u001b[39m\u001b[39m\"\u001b[39m, \u001b[39mNone\u001b[39;00m)\n\u001b[1;32m     60\u001b[0m descriptions \u001b[39m=\u001b[39m kwargs\u001b[39m.\u001b[39mpop(\u001b[39m\"\u001b[39m\u001b[39mdescriptions\u001b[39m\u001b[39m\"\u001b[39m, \u001b[39mNone\u001b[39;00m)\n\u001b[0;32m---> 62\u001b[0m out \u001b[39m=\u001b[39m \u001b[39mself\u001b[39;49m\u001b[39m.\u001b[39;49mregistry\u001b[39m.\u001b[39;49mread(\u001b[39mcls\u001b[39;49m, \u001b[39m*\u001b[39;49margs, \u001b[39m*\u001b[39;49m\u001b[39m*\u001b[39;49mkwargs)\n\u001b[1;32m     64\u001b[0m \u001b[39m# For some readers (e.g., ascii.ecsv), the returned `out` class is not\u001b[39;00m\n\u001b[1;32m     65\u001b[0m \u001b[39m# guaranteed to be the same as the desired output `cls`.  If so,\u001b[39;00m\n\u001b[1;32m     66\u001b[0m \u001b[39m# try coercing to desired class without copying (io.registry.read\u001b[39;00m\n\u001b[1;32m     67\u001b[0m \u001b[39m# would normally do a copy).  The normal case here is swapping\u001b[39;00m\n\u001b[1;32m     68\u001b[0m \u001b[39m# Table <=> QTable.\u001b[39;00m\n\u001b[1;32m     69\u001b[0m \u001b[39mif\u001b[39;00m \u001b[39mcls\u001b[39m \u001b[39mis\u001b[39;00m \u001b[39mnot\u001b[39;00m out\u001b[39m.\u001b[39m\u001b[39m__class__\u001b[39m:\n",
      "File \u001b[0;32m~/.local/lib/python3.9/site-packages/astropy/io/registry/core.py:219\u001b[0m, in \u001b[0;36mUnifiedInputRegistry.read\u001b[0;34m(self, cls, format, cache, *args, **kwargs)\u001b[0m\n\u001b[1;32m    214\u001b[0m     \u001b[39mformat\u001b[39m \u001b[39m=\u001b[39m \u001b[39mself\u001b[39m\u001b[39m.\u001b[39m_get_valid_format(\n\u001b[1;32m    215\u001b[0m         \u001b[39m\"\u001b[39m\u001b[39mread\u001b[39m\u001b[39m\"\u001b[39m, \u001b[39mcls\u001b[39m, path, fileobj, args, kwargs\n\u001b[1;32m    216\u001b[0m     )\n\u001b[1;32m    218\u001b[0m reader \u001b[39m=\u001b[39m \u001b[39mself\u001b[39m\u001b[39m.\u001b[39mget_reader(\u001b[39mformat\u001b[39m, \u001b[39mcls\u001b[39m)\n\u001b[0;32m--> 219\u001b[0m data \u001b[39m=\u001b[39m reader(\u001b[39m*\u001b[39;49margs, \u001b[39m*\u001b[39;49m\u001b[39m*\u001b[39;49mkwargs)\n\u001b[1;32m    221\u001b[0m \u001b[39mif\u001b[39;00m \u001b[39mnot\u001b[39;00m \u001b[39misinstance\u001b[39m(data, \u001b[39mcls\u001b[39m):\n\u001b[1;32m    222\u001b[0m     \u001b[39m# User has read with a subclass where only the parent class is\u001b[39;00m\n\u001b[1;32m    223\u001b[0m     \u001b[39m# registered.  This returns the parent class, so try coercing\u001b[39;00m\n\u001b[1;32m    224\u001b[0m     \u001b[39m# to desired subclass.\u001b[39;00m\n\u001b[1;32m    225\u001b[0m     \u001b[39mtry\u001b[39;00m:\n",
      "File \u001b[0;32m~/.local/lib/python3.9/site-packages/astropy/io/ascii/connect.py:19\u001b[0m, in \u001b[0;36mio_read\u001b[0;34m(format, filename, **kwargs)\u001b[0m\n\u001b[1;32m     17\u001b[0m     \u001b[39mformat\u001b[39m \u001b[39m=\u001b[39m re\u001b[39m.\u001b[39msub(\u001b[39mr\u001b[39m\u001b[39m\"\u001b[39m\u001b[39m^ascii\u001b[39m\u001b[39m\\\u001b[39m\u001b[39m.\u001b[39m\u001b[39m\"\u001b[39m, \u001b[39m\"\u001b[39m\u001b[39m\"\u001b[39m, \u001b[39mformat\u001b[39m)\n\u001b[1;32m     18\u001b[0m     kwargs[\u001b[39m\"\u001b[39m\u001b[39mformat\u001b[39m\u001b[39m\"\u001b[39m] \u001b[39m=\u001b[39m \u001b[39mformat\u001b[39m\n\u001b[0;32m---> 19\u001b[0m \u001b[39mreturn\u001b[39;00m read(filename, \u001b[39m*\u001b[39;49m\u001b[39m*\u001b[39;49mkwargs)\n",
      "File \u001b[0;32m~/.local/lib/python3.9/site-packages/astropy/io/ascii/ui.py:426\u001b[0m, in \u001b[0;36mread\u001b[0;34m(table, guess, **kwargs)\u001b[0m\n\u001b[1;32m    424\u001b[0m     \u001b[39melse\u001b[39;00m:\n\u001b[1;32m    425\u001b[0m         reader \u001b[39m=\u001b[39m get_reader(\u001b[39m*\u001b[39m\u001b[39m*\u001b[39mnew_kwargs)\n\u001b[0;32m--> 426\u001b[0m         dat \u001b[39m=\u001b[39m reader\u001b[39m.\u001b[39;49mread(table)\n\u001b[1;32m    427\u001b[0m         _read_trace\u001b[39m.\u001b[39mappend(\n\u001b[1;32m    428\u001b[0m             {\n\u001b[1;32m    429\u001b[0m                 \u001b[39m\"\u001b[39m\u001b[39mkwargs\u001b[39m\u001b[39m\"\u001b[39m: copy\u001b[39m.\u001b[39mdeepcopy(new_kwargs),\n\u001b[0;32m   (...)\u001b[0m\n\u001b[1;32m    432\u001b[0m             }\n\u001b[1;32m    433\u001b[0m         )\n\u001b[1;32m    435\u001b[0m \u001b[39m# Static analysis (pyright) indicates `dat` might be left undefined, so just\u001b[39;00m\n\u001b[1;32m    436\u001b[0m \u001b[39m# to be sure define it at the beginning and check here.\u001b[39;00m\n",
      "File \u001b[0;32m~/.local/lib/python3.9/site-packages/astropy/io/ascii/cds.py:358\u001b[0m, in \u001b[0;36mCds.read\u001b[0;34m(self, table)\u001b[0m\n\u001b[1;32m    356\u001b[0m             \u001b[39mreturn\u001b[39;00m table\n\u001b[1;32m    357\u001b[0m \u001b[39melse\u001b[39;00m:\n\u001b[0;32m--> 358\u001b[0m     \u001b[39mreturn\u001b[39;00m \u001b[39msuper\u001b[39;49m()\u001b[39m.\u001b[39;49mread(table)\n",
      "File \u001b[0;32m~/.local/lib/python3.9/site-packages/astropy/io/ascii/core.py:1414\u001b[0m, in \u001b[0;36mBaseReader.read\u001b[0;34m(self, table)\u001b[0m\n\u001b[1;32m   1411\u001b[0m     newline \u001b[39m=\u001b[39m \u001b[39mNone\u001b[39;00m\n\u001b[1;32m   1413\u001b[0m \u001b[39m# Get a list of the lines (rows) in the table\u001b[39;00m\n\u001b[0;32m-> 1414\u001b[0m \u001b[39mself\u001b[39m\u001b[39m.\u001b[39mlines \u001b[39m=\u001b[39m \u001b[39mself\u001b[39;49m\u001b[39m.\u001b[39;49minputter\u001b[39m.\u001b[39;49mget_lines(table, newline\u001b[39m=\u001b[39;49mnewline)\n\u001b[1;32m   1416\u001b[0m \u001b[39m# Set self.data.data_lines to a slice of lines contain the data rows\u001b[39;00m\n\u001b[1;32m   1417\u001b[0m \u001b[39mself\u001b[39m\u001b[39m.\u001b[39mdata\u001b[39m.\u001b[39mget_data_lines(\u001b[39mself\u001b[39m\u001b[39m.\u001b[39mlines)\n",
      "File \u001b[0;32m~/.local/lib/python3.9/site-packages/astropy/io/ascii/core.py:335\u001b[0m, in \u001b[0;36mBaseInputter.get_lines\u001b[0;34m(self, table, newline)\u001b[0m\n\u001b[1;32m    331\u001b[0m \u001b[39mtry\u001b[39;00m:\n\u001b[1;32m    332\u001b[0m     \u001b[39mif\u001b[39;00m \u001b[39mhasattr\u001b[39m(table, \u001b[39m\"\u001b[39m\u001b[39mread\u001b[39m\u001b[39m\"\u001b[39m) \u001b[39mor\u001b[39;00m (\n\u001b[1;32m    333\u001b[0m         \u001b[39m\"\u001b[39m\u001b[39m\\n\u001b[39;00m\u001b[39m\"\u001b[39m \u001b[39mnot\u001b[39;00m \u001b[39min\u001b[39;00m table \u001b[39m+\u001b[39m \u001b[39m\"\u001b[39m\u001b[39m\"\u001b[39m \u001b[39mand\u001b[39;00m \u001b[39m\"\u001b[39m\u001b[39m\\r\u001b[39;00m\u001b[39m\"\u001b[39m \u001b[39mnot\u001b[39;00m \u001b[39min\u001b[39;00m table \u001b[39m+\u001b[39m \u001b[39m\"\u001b[39m\u001b[39m\"\u001b[39m\n\u001b[1;32m    334\u001b[0m     ):\n\u001b[0;32m--> 335\u001b[0m         \u001b[39mwith\u001b[39;00m get_readable_fileobj(table, encoding\u001b[39m=\u001b[39m\u001b[39mself\u001b[39m\u001b[39m.\u001b[39mencoding) \u001b[39mas\u001b[39;00m fileobj:\n\u001b[1;32m    336\u001b[0m             table \u001b[39m=\u001b[39m fileobj\u001b[39m.\u001b[39mread()\n\u001b[1;32m    337\u001b[0m     \u001b[39mif\u001b[39;00m newline \u001b[39mis\u001b[39;00m \u001b[39mNone\u001b[39;00m:\n",
      "File \u001b[0;32m/usr/lib/python3.9/contextlib.py:117\u001b[0m, in \u001b[0;36m_GeneratorContextManager.__enter__\u001b[0;34m(self)\u001b[0m\n\u001b[1;32m    115\u001b[0m \u001b[39mdel\u001b[39;00m \u001b[39mself\u001b[39m\u001b[39m.\u001b[39margs, \u001b[39mself\u001b[39m\u001b[39m.\u001b[39mkwds, \u001b[39mself\u001b[39m\u001b[39m.\u001b[39mfunc\n\u001b[1;32m    116\u001b[0m \u001b[39mtry\u001b[39;00m:\n\u001b[0;32m--> 117\u001b[0m     \u001b[39mreturn\u001b[39;00m \u001b[39mnext\u001b[39;49m(\u001b[39mself\u001b[39;49m\u001b[39m.\u001b[39;49mgen)\n\u001b[1;32m    118\u001b[0m \u001b[39mexcept\u001b[39;00m \u001b[39mStopIteration\u001b[39;00m:\n\u001b[1;32m    119\u001b[0m     \u001b[39mraise\u001b[39;00m \u001b[39mRuntimeError\u001b[39;00m(\u001b[39m\"\u001b[39m\u001b[39mgenerator didn\u001b[39m\u001b[39m'\u001b[39m\u001b[39mt yield\u001b[39m\u001b[39m\"\u001b[39m) \u001b[39mfrom\u001b[39;00m \u001b[39mNone\u001b[39m\n",
      "File \u001b[0;32m~/.local/lib/python3.9/site-packages/astropy/utils/data.py:353\u001b[0m, in \u001b[0;36mget_readable_fileobj\u001b[0;34m(name_or_obj, encoding, cache, show_progress, remote_timeout, sources, http_headers, use_fsspec, fsspec_kwargs, close_files)\u001b[0m\n\u001b[1;32m    344\u001b[0m \u001b[39mif\u001b[39;00m is_url:\n\u001b[1;32m    345\u001b[0m     name_or_obj \u001b[39m=\u001b[39m download_file(\n\u001b[1;32m    346\u001b[0m         name_or_obj,\n\u001b[1;32m    347\u001b[0m         cache\u001b[39m=\u001b[39mcache,\n\u001b[0;32m   (...)\u001b[0m\n\u001b[1;32m    351\u001b[0m         http_headers\u001b[39m=\u001b[39mhttp_headers,\n\u001b[1;32m    352\u001b[0m     )\n\u001b[0;32m--> 353\u001b[0m fileobj \u001b[39m=\u001b[39m io\u001b[39m.\u001b[39;49mFileIO(name_or_obj, \u001b[39m\"\u001b[39;49m\u001b[39mr\u001b[39;49m\u001b[39m\"\u001b[39;49m)\n\u001b[1;32m    354\u001b[0m \u001b[39mif\u001b[39;00m is_url \u001b[39mand\u001b[39;00m \u001b[39mnot\u001b[39;00m cache:\n\u001b[1;32m    355\u001b[0m     delete_fds\u001b[39m.\u001b[39mappend(fileobj)\n",
      "\u001b[0;31mFileNotFoundError\u001b[0m: [Errno 2] No such file or directory: '../input/t1_mrf.txt'"
     ]
    }
   ],
   "source": [
    "#### LOAD IN TABLES FROM PAPER SUPPLEMENTAL MATERIAL\n",
    "TS = Table.read('../input/t1_mrf.txt', format='ascii.cds')\n",
    "TD = Table.read('../input/t2_mrf.txt', format='ascii.cds')\n",
    "TG = Table.read('../input/t3_mrf.txt', format='ascii.cds')\n",
    "T = join(TS, TD, join_type='inner')\n",
    "T = join(T, TG, join_type='inner')"
   ]
  },
  {
   "cell_type": "code",
   "execution_count": null,
   "id": "7b84cc51",
   "metadata": {},
   "outputs": [],
   "source": [
    "### INDEX DUST NON-DETECTIONS\n",
    "ind_dust_nd = T['FCont'] / T['e_FCont'] < 3.0"
   ]
  },
  {
   "cell_type": "code",
   "execution_count": null,
   "id": "1e8eb112",
   "metadata": {},
   "outputs": [],
   "source": [
    "### INDEX dust detections, 13CO non-detections, C18O non-detections\n",
    "ind_gas_nd = ((T['FCont'] / T['e_FCont'] > 3.0)  & (~T['l_F13CO'].mask) & (~T['l_F18CO'].mask) )"
   ]
  },
  {
   "cell_type": "code",
   "execution_count": null,
   "id": "37628534",
   "metadata": {},
   "outputs": [],
   "source": [
    "### INDEX dust detections, 13CO detections, 18CO non-detections\n",
    "ind_C18O_nd = ((T['FCont'] / T['e_FCont'] > 3.0)  & (T['l_F13CO'].mask) & (~T['l_F18CO'].mask) )"
   ]
  },
  {
   "cell_type": "code",
   "execution_count": null,
   "id": "123bc9e7",
   "metadata": {},
   "outputs": [],
   "source": [
    "### STACK IMAGES\n",
    "lines = ['13CO', 'C18O']\n",
    "for n, nval in enumerate(lines):\n",
    "    for i, val in enumerate([T[ind_dust_nd], T[ind_gas_nd], T[ind_C18O_nd]]):\n",
    "        stacked, xpix_all, ypix_all, bmaj_all, bmin_all, bpa_all = stackme(val, lines[n])\n",
    "        write_fits(stacked, lines[n], i, xpix_all, ypix_all, bmaj_all, bmin_all, bpa_all)"
   ]
  },
  {
   "cell_type": "code",
   "execution_count": null,
   "id": "3e3a332b",
   "metadata": {},
   "outputs": [],
   "source": [
    "plt.close('all')"
   ]
  }
 ],
 "metadata": {
  "jupytext": {
   "cell_metadata_filter": "-all",
   "main_language": "python",
   "notebook_metadata_filter": "-all"
  },
  "kernelspec": {
   "display_name": "Python 3.9.2 64-bit",
   "language": "python",
   "name": "python3"
  },
  "language_info": {
   "codemirror_mode": {
    "name": "ipython",
    "version": 3
   },
   "file_extension": ".py",
   "mimetype": "text/x-python",
   "name": "python",
   "nbconvert_exporter": "python",
   "pygments_lexer": "ipython3",
   "version": "3.9.2"
  },
  "vscode": {
   "interpreter": {
    "hash": "31f2aee4e71d21fbe5cf8b01ff0e069b9275f58929596ceb00d14d90e3e16cd6"
   }
  }
 },
 "nbformat": 4,
 "nbformat_minor": 5
}
