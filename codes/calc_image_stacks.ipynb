{
 "cells": [
  {
   "cell_type": "markdown",
   "id": "57a91137",
   "metadata": {},
   "source": [
    "======================== Import Packages =========================="
   ]
  },
  {
   "cell_type": "code",
   "execution_count": null,
   "id": "3fd9f07b",
   "metadata": {},
   "outputs": [],
   "source": [
    "import sys, os, pdb, glob\n",
    "import numpy as np\n",
    "import matplotlib as mpl\n",
    "import matplotlib.pyplot as plt\n",
    "from astropy.io import fits\n",
    "from astropy.table import Table, join\n",
    "from astropy.coordinates import SkyCoord\n",
    "from astropy import units as u"
   ]
  },
  {
   "cell_type": "markdown",
   "id": "081f31c3",
   "metadata": {},
   "source": [
    "===================== Define Functions ==================="
   ]
  },
  {
   "cell_type": "code",
   "execution_count": null,
   "id": "1e01963c",
   "metadata": {},
   "outputs": [],
   "source": [
    "def readfits(file):\n",
    "\n",
    "    \"\"\"\n",
    "    PURPOSE:    Read in FITS file and header info\n",
    "\n",
    "    INPUT:      Path to FITS file (str)\n",
    "\n",
    "    OUTPUT:     Image (float arr)\n",
    "                Image center coordinates in pixels (float)\n",
    "                Image pixel width in deg/pix units (float)\n",
    "                Beam major axis, minor axis, position angle (float)\n",
    "                Image center coordinates in deg units (float)\n",
    "\n",
    "    \"\"\"\n",
    "\n",
    "    ### READ IN FITS FILE\n",
    "    hdulist = fits.open(file)\n",
    "    data = hdulist[0].data[0, 0, :, :]\n",
    "    head = hdulist[0].header\n",
    "    hdulist.close()\n",
    "\n",
    "    ### GET HEADER INFO\n",
    "    xcen = head['CRPIX1']\n",
    "    ycen = head['CRPIX2']\n",
    "    xpix = head['CDELT1']\n",
    "    ypix = head['CDELT2']\n",
    "    xcen_ra = head['CRVAL1']\n",
    "    xcen_de = head['CRVAL2']\n",
    "    bmaj = head['bmaj']\n",
    "    bmin = head['bmin']\n",
    "    bpa  = head['bpa']\n",
    "\n",
    "    return(data, xcen, ycen, xpix, ypix, bmaj, bmin, bpa, xcen_ra, xcen_de)"
   ]
  },
  {
   "cell_type": "code",
   "execution_count": null,
   "id": "0dd151c2",
   "metadata": {},
   "outputs": [],
   "source": [
    "def write_fits(img, line, i, xpix_all, ypix_all, bmaj_all, bmin_all, bpa_all):\n",
    "\n",
    "    \"\"\"\n",
    "    PURPOSE:    Write FITS file and header info\n",
    "\n",
    "    INPUT:      Image to write (array)\n",
    "                Line that was stacked (str)\n",
    "                Pixel width in deg/pix units for all images in stack (array)\n",
    "                Beam major axis, minor axis, position angle for all images in stack (array)\n",
    "\n",
    "    OUTPUT:     Stacked image (FITS file)\n",
    "\n",
    "    \"\"\"\n",
    "\n",
    "    os.system('rm ../output/stack_nd_'+line+'_'+str(i)+'.fits')\n",
    "    hdu = fits.PrimaryHDU()\n",
    "    hdu.data = img\n",
    "\n",
    "    hdu.header['CRPIX1'] = hdu.header['NAXIS1']/2\n",
    "    hdu.header['CRPIX2'] = hdu.header['NAXIS2']/2\n",
    "    hdu.header['bmaj'] = bmaj_all.mean()\n",
    "    hdu.header['bmin'] = bmin_all.mean()\n",
    "    hdu.header['bpa'] = bpa_all.mean()\n",
    "    hdu.header['cdelt1'] = xpix_all.mean()\n",
    "    hdu.header['cdelt2'] = ypix_all.mean()\n",
    "\n",
    "    hdu.writeto('../output/stack_nd_'+line+'_'+str(i)+'.fits')"
   ]
  },
  {
   "cell_type": "code",
   "execution_count": null,
   "id": "a4743ede",
   "metadata": {},
   "outputs": [],
   "source": [
    "def crop_img(file_img, hw_as, c_obj):\n",
    "\n",
    "    ### LOAD IMAGE AND GET CENTER COORDINATES\n",
    "    img, xcen_img, ycen_img, xpix_img, ypix_img, bmaj_img, bmin_img, bpa_img, xcen_ra_img, ycen_de_img = readfits(file_img)\n",
    "    c_img = SkyCoord(xcen_ra_img, ycen_de_img, frame='icrs', unit='deg')\n",
    "    \n",
    "    ### CENTER IMAGE ON OBJECT LOCATION \n",
    "    dra, ddec = c_img.spherical_offsets_to(c_obj)\n",
    "    width_pix = int(round(hw_as / (ypix_img * 3600.0)))\n",
    "    xctr = xcen_img + dra.value / xpix_img\n",
    "    yctr = ycen_img + ddec.value / ypix_img\n",
    "\n",
    "    ### CROP IMAGE\n",
    "    img = img[int(round(yctr - width_pix)):int(round(yctr + width_pix)),\n",
    "              int(round(xctr - width_pix)):int(round(xctr + width_pix))]\n",
    "    \n",
    "    return img, width_pix, xpix_img, ypix_img, bmaj_img, bmin_img, bpa_img"
   ]
  },
  {
   "cell_type": "code",
   "execution_count": null,
   "id": "0c72f8cf",
   "metadata": {
    "lines_to_next_cell": 2
   },
   "outputs": [],
   "source": [
    "def stackme(t, line):\n",
    "\n",
    "    \"\"\"\n",
    "    PURPOSE:    Stack image\n",
    "\n",
    "    INPUT:      Table of sources to be stacked (AstroPy Table)\n",
    "                Line name (str; must be 'cont', '13CO', C18O')\n",
    "\n",
    "    OUTPUT:     Stacked image (array)\n",
    "                Pixel width in deg/pix units for all images in stack (array)\n",
    "                Beam major axis, minor axis, position angle for all images in stack (array)\n",
    "\n",
    "    \"\"\"\n",
    "\n",
    "    xpix_all, ypix_all = np.empty(len(t)), np.empty(len(t))\n",
    "    bmaj_all, bmin_all, bpa_all = np.empty(len(t)), np.empty(len(t)), np.empty(len(t))\n",
    "    \n",
    "    for i,val in enumerate(t['Name']):\n",
    "\n",
    "        if (line == 'C18O'): suffix = '_c18o32.mom0.fits'\n",
    "        if (line == '13CO'): suffix = '_13co32.mom0.fits'\n",
    "        if (line == 'cont'):   suffix = '_cont.fits'\n",
    "\n",
    "        file_img = '../data/' + val + suffix\n",
    "        file_img = file_img.replace(' ', '_')\n",
    "        if os.path.isfile(file_img) is False:\n",
    "            print('missing FITS file for ' + val, line)\n",
    "            pdb.set_trace()\n",
    "\n",
    "        ### GET COORDINATES OF OBJECT FROM PAPER TABLE\n",
    "        de_obj = str(t['DE-'][i]) + str(t['DEd'][i]) + 'd' + str(t['DEm'][i]) + 'm' + str(t['DEs'][i]) + 's'\n",
    "        ra_obj = str(t['RAh'][i]) + 'h' + str(t['RAm'][i]) + 'm' + str(t['RAs'][i]) + 's'\n",
    "        c_obj = SkyCoord(ra_obj, de_obj, frame='icrs')\n",
    "\n",
    "        img_cont, width_pix, xpix_img, ypix_img, bmaj_img, bmin_img, bpa_img = crop_img(file_img, 8.0, c_obj)\n",
    "        \n",
    "        ### SCALE WITH DISTANCE AND PUT INTO MJY UNITS\n",
    "        img_cont = 1e3 * img_cont * ((t['Dis'][i] / 200.)**2)\n",
    "\n",
    "\n",
    "        xpix_all[i], ypix_all[i] = xpix_img, ypix_img\n",
    "        bmaj_all[i], bmin_all[i], bpa_all[i] = bmaj_img, bmin_img, bpa_img\n",
    "\n",
    "        if (i==0):\n",
    "            img_all = np.zeros([2 * width_pix, 2 * width_pix, 1])\n",
    "            temp = img_cont.reshape((2 * width_pix, 2 * width_pix, 1))\n",
    "            img_all = temp\n",
    "            \n",
    "        else:\n",
    "            temp = img_cont.reshape((2 * width_pix, 2 * width_pix, 1))\n",
    "            img_all = np.append(img_all, temp, axis=2)\n",
    "\n",
    "    stacked = np.sum(img_all, 2) / len(t)\n",
    "\n",
    "    return stacked, xpix_all, ypix_all, bmaj_all, bmin_all, bpa_all"
   ]
  },
  {
   "cell_type": "markdown",
   "id": "6d209e45",
   "metadata": {},
   "source": [
    "========================== Code =========================="
   ]
  },
  {
   "cell_type": "code",
   "execution_count": null,
   "id": "927b08b0",
   "metadata": {},
   "outputs": [],
   "source": [
    "#### LOAD IN TABLES FROM PAPER SUPPLEMENTAL MATERIAL\n",
    "TS = Table.read('../input/t1_mrf.txt', format='ascii.cds')\n",
    "TD = Table.read('../input/t2_mrf.txt', format='ascii.cds')\n",
    "TG = Table.read('../input/t3_mrf.txt', format='ascii.cds')\n",
    "T = join(TS, TD, join_type='inner')\n",
    "T = join(T, TG, join_type='inner')"
   ]
  },
  {
   "cell_type": "code",
   "execution_count": null,
   "id": "9509eacd",
   "metadata": {},
   "outputs": [],
   "source": [
    "### INDEX DUST NON-DETECTIONS\n",
    "ind_dust_nd = T['FCont'] / T['e_FCont'] < 3.0"
   ]
  },
  {
   "cell_type": "code",
   "execution_count": null,
   "id": "4c568adc",
   "metadata": {},
   "outputs": [],
   "source": [
    "### INDEX dust detections, 13CO non-detections, C18O non-detections\n",
    "ind_gas_nd = ((T['FCont'] / T['e_FCont'] > 3.0)  & (~T['l_F13CO'].mask) & (~T['l_F18CO'].mask) )"
   ]
  },
  {
   "cell_type": "code",
   "execution_count": null,
   "id": "67abb839",
   "metadata": {},
   "outputs": [],
   "source": [
    "### INDEX dust detections, 13CO detections, 18CO non-detections\n",
    "ind_C18O_nd = ((T['FCont'] / T['e_FCont'] > 3.0)  & (T['l_F13CO'].mask) & (~T['l_F18CO'].mask) )"
   ]
  },
  {
   "cell_type": "code",
   "execution_count": null,
   "id": "cfacc7f7",
   "metadata": {},
   "outputs": [],
   "source": [
    "### STACK IMAGES\n",
    "lines = ['13CO', 'C18O']\n",
    "for n, nval in enumerate(lines):\n",
    "    for i, val in enumerate([T[ind_dust_nd], T[ind_gas_nd], T[ind_C18O_nd]]):\n",
    "        stacked, xpix_all, ypix_all, bmaj_all, bmin_all, bpa_all = stackme(val, lines[n])\n",
    "        write_fits(stacked, lines[n], i, xpix_all, ypix_all, bmaj_all, bmin_all, bpa_all)"
   ]
  },
  {
   "cell_type": "code",
   "execution_count": null,
   "id": "5faf7cd3",
   "metadata": {},
   "outputs": [],
   "source": [
    "plt.close('all')"
   ]
  }
 ],
 "metadata": {
  "jupytext": {
   "cell_metadata_filter": "-all",
   "main_language": "python",
   "notebook_metadata_filter": "-all"
  }
 },
 "nbformat": 4,
 "nbformat_minor": 5
}
