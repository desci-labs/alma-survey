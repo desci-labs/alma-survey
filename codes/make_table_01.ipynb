{
 "cells": [
  {
   "cell_type": "code",
   "execution_count": 1,
   "id": "cc5a125f",
   "metadata": {},
   "outputs": [
    {
     "data": {
      "text/plain": [
       "'\\nNOTE: units for \"e_Mass\" in \"t1_mrf.txt\" should be changed to \"solMass\"\\n      for compatibility with astropy.Table.read \"ascii.cds\" format\\n\\n'"
      ]
     },
     "execution_count": 1,
     "metadata": {},
     "output_type": "execute_result"
    }
   ],
   "source": [
    "\"\"\"\n",
    "NOTE: units for \"e_Mass\" in \"t1_mrf.txt\" should be changed to \"solMass\"\n",
    "      for compatibility with astropy.Table.read \"ascii.cds\" format\n",
    "\n",
    "\"\"\""
   ]
  },
  {
   "cell_type": "markdown",
   "id": "170fe5a4",
   "metadata": {},
   "source": [
    "======================== Import Packages =========================="
   ]
  },
  {
   "cell_type": "code",
   "execution_count": 2,
   "id": "677fcfaf",
   "metadata": {
    "lines_to_next_cell": 2
   },
   "outputs": [],
   "source": [
    "import sys, pdb, glob\n",
    "import numpy as np\n",
    "import pandas as pd\n",
    "from astropy.table import Table\n",
    "from IPython.display import display"
   ]
  },
  {
   "cell_type": "markdown",
   "id": "1df4008c",
   "metadata": {},
   "source": [
    "========================== Code =========================="
   ]
  },
  {
   "cell_type": "code",
   "execution_count": 3,
   "id": "6dc8dee9",
   "metadata": {},
   "outputs": [],
   "source": [
    "### READ IN FULL TABLE FROM PAPER SUPPLEMENTAL MATERIAL\n",
    "T = Table.read('input/apjaa2846t1_mrf.txt', format='ascii.cds')\n",
    "df = T.to_pandas()"
   ]
  },
  {
   "cell_type": "code",
   "execution_count": 4,
   "id": "a3bdc2c6",
   "metadata": {},
   "outputs": [
    {
     "data": {
      "text/html": [
       "<div>\n",
       "<style scoped>\n",
       "    .dataframe tbody tr th:only-of-type {\n",
       "        vertical-align: middle;\n",
       "    }\n",
       "\n",
       "    .dataframe tbody tr th {\n",
       "        vertical-align: top;\n",
       "    }\n",
       "\n",
       "    .dataframe thead th {\n",
       "        text-align: right;\n",
       "    }\n",
       "</style>\n",
       "<table border=\"1\" class=\"dataframe\">\n",
       "  <thead>\n",
       "    <tr style=\"text-align: right;\">\n",
       "      <th></th>\n",
       "      <th>Name</th>\n",
       "      <th>Dis</th>\n",
       "      <th>SpType</th>\n",
       "      <th>Mass</th>\n",
       "      <th>e_Mass</th>\n",
       "      <th>Ref</th>\n",
       "    </tr>\n",
       "  </thead>\n",
       "  <tbody>\n",
       "    <tr>\n",
       "      <th>0</th>\n",
       "      <td>Sz 65</td>\n",
       "      <td>150</td>\n",
       "      <td>K7.0</td>\n",
       "      <td>0.76</td>\n",
       "      <td>0.18</td>\n",
       "      <td>2</td>\n",
       "    </tr>\n",
       "    <tr>\n",
       "      <th>1</th>\n",
       "      <td>Sz 66</td>\n",
       "      <td>150</td>\n",
       "      <td>M3.0</td>\n",
       "      <td>0.31</td>\n",
       "      <td>0.04</td>\n",
       "      <td>1</td>\n",
       "    </tr>\n",
       "    <tr>\n",
       "      <th>2</th>\n",
       "      <td>J15430131-3409153</td>\n",
       "      <td>150</td>\n",
       "      <td>NaN</td>\n",
       "      <td>NaN</td>\n",
       "      <td>NaN</td>\n",
       "      <td>&lt;NA&gt;</td>\n",
       "    </tr>\n",
       "    <tr>\n",
       "      <th>3</th>\n",
       "      <td>J15430227-3444059</td>\n",
       "      <td>150</td>\n",
       "      <td>NaN</td>\n",
       "      <td>NaN</td>\n",
       "      <td>NaN</td>\n",
       "      <td>&lt;NA&gt;</td>\n",
       "    </tr>\n",
       "    <tr>\n",
       "      <th>4</th>\n",
       "      <td>J15445789-3423392</td>\n",
       "      <td>150</td>\n",
       "      <td>M5.0</td>\n",
       "      <td>0.12</td>\n",
       "      <td>0.03</td>\n",
       "      <td>1</td>\n",
       "    </tr>\n",
       "    <tr>\n",
       "      <th>5</th>\n",
       "      <td>J15450634-3417378</td>\n",
       "      <td>150</td>\n",
       "      <td>NaN</td>\n",
       "      <td>NaN</td>\n",
       "      <td>NaN</td>\n",
       "      <td>&lt;NA&gt;</td>\n",
       "    </tr>\n",
       "    <tr>\n",
       "      <th>6</th>\n",
       "      <td>J15450887-3417333</td>\n",
       "      <td>150</td>\n",
       "      <td>M5.5</td>\n",
       "      <td>0.14</td>\n",
       "      <td>0.03</td>\n",
       "      <td>2</td>\n",
       "    </tr>\n",
       "    <tr>\n",
       "      <th>7</th>\n",
       "      <td>Sz 68</td>\n",
       "      <td>150</td>\n",
       "      <td>K2.0</td>\n",
       "      <td>2.13</td>\n",
       "      <td>0.34</td>\n",
       "      <td>2</td>\n",
       "    </tr>\n",
       "    <tr>\n",
       "      <th>8</th>\n",
       "      <td>Sz 69</td>\n",
       "      <td>150</td>\n",
       "      <td>M4.5</td>\n",
       "      <td>0.19</td>\n",
       "      <td>0.03</td>\n",
       "      <td>1</td>\n",
       "    </tr>\n",
       "    <tr>\n",
       "      <th>9</th>\n",
       "      <td>Sz 71</td>\n",
       "      <td>150</td>\n",
       "      <td>M1.5</td>\n",
       "      <td>0.42</td>\n",
       "      <td>0.11</td>\n",
       "      <td>1</td>\n",
       "    </tr>\n",
       "  </tbody>\n",
       "</table>\n",
       "</div>"
      ],
      "text/plain": [
       "                Name  Dis SpType  Mass  e_Mass   Ref\n",
       "0              Sz 65  150   K7.0  0.76    0.18     2\n",
       "1              Sz 66  150   M3.0  0.31    0.04     1\n",
       "2  J15430131-3409153  150    NaN   NaN     NaN  <NA>\n",
       "3  J15430227-3444059  150    NaN   NaN     NaN  <NA>\n",
       "4  J15445789-3423392  150   M5.0  0.12    0.03     1\n",
       "5  J15450634-3417378  150    NaN   NaN     NaN  <NA>\n",
       "6  J15450887-3417333  150   M5.5  0.14    0.03     2\n",
       "7              Sz 68  150   K2.0  2.13    0.34     2\n",
       "8              Sz 69  150   M4.5  0.19    0.03     1\n",
       "9              Sz 71  150   M1.5  0.42    0.11     1"
      ]
     },
     "metadata": {},
     "output_type": "display_data"
    }
   ],
   "source": [
    "### DISPLAY FIRST 10 ROWS AS PANDAS DATAFRAME\n",
    "display(df.head(10))"
   ]
  },
  {
   "cell_type": "code",
   "execution_count": 5,
   "id": "43eb9f01",
   "metadata": {},
   "outputs": [
    {
     "data": {
      "text/plain": [
       "12"
      ]
     },
     "execution_count": 5,
     "metadata": {},
     "output_type": "execute_result"
    }
   ],
   "source": [
    "### WRITE HEADER INFO\n",
    "f = open('output/table_01.tex', 'w')\n",
    "f.write(r'\\capstartfalse'                                     + ' \\n')\n",
    "f.write(r'\\begin{deluxetable}{lrrrr}'                         + ' \\n')\n",
    "f.write(r'\\tabletypesize{\\footnotesize}'                      + ' \\n')\n",
    "f.write(r'\\centering'                                         + ' \\n')\n",
    "f.write(r'\\tablewidth{240pt}'                                 + ' \\n')\n",
    "f.write(r'\\tablecaption{Stellar Properties \\label{tab-star}}' + ' \\n')\n",
    "f.write(r'\\tablecolumns{5} '                                  + ' \\n')\n",
    "f.write(r'\\tablehead{'                                        + ' \\n')\n",
    "f.write(r' \\colhead{Source}'                                  + ' \\n')\n",
    "f.write(r'&\\colhead{$d$ (pc)}'                                + ' \\n')\n",
    "f.write(r'&\\colhead{SpT}'                                     + ' \\n')\n",
    "f.write(r'&\\colhead{$M_{\\ast}$/$M_{\\odot}$}'                  + ' \\n')\n",
    "f.write(r'&\\colhead{Ref}'                                     + ' \\n')\n",
    "f.write(r'}'                                                  + ' \\n')\n",
    "f.write(r'\\startdata'                                         + ' \\n')"
   ]
  },
  {
   "cell_type": "code",
   "execution_count": 6,
   "id": "8b9c9344",
   "metadata": {},
   "outputs": [],
   "source": [
    "### WRITE FIRST 10 LINES\n",
    "lim = 10\n",
    "for i, val in enumerate(np.zeros(lim)):\n",
    "\n",
    "    source = T['Name'][i]\n",
    "    dist = str(T['Dis'][i])\n",
    "\n",
    "    if np.ma.is_masked(T['Ref'][i]) is True:\n",
    "        ref = '...'\n",
    "    else:\n",
    "        ref = str(T['Ref'][i])\n",
    "\n",
    "    if np.ma.is_masked(T['SpType'][i]) is True:\n",
    "        spt = '...'\n",
    "    else:\n",
    "        spt = T['SpType'][i]\n",
    "\n",
    "    if np.ma.is_masked(T['Mass'][i]) is True:\n",
    "        mstar = '...'\n",
    "    else:\n",
    "        mstar  = str(T['Mass'][i]) + r' $\\pm$ ' + str(T['e_Mass'][i])\n",
    "\n",
    "    ### END OF LINE\n",
    "    if (i < lim - 1):\n",
    "        end = r' \\\\' + '\\n'\n",
    "    else:\n",
    "        end = '\\n'\n",
    "\n",
    "    f.write(source + ' & ' + dist + ' & ' + spt + ' & ' + mstar + ' & ' + ref + end)"
   ]
  },
  {
   "cell_type": "code",
   "execution_count": 7,
   "id": "19fd5a04",
   "metadata": {},
   "outputs": [],
   "source": [
    "### WRITE FOOTER INFO\n",
    "f.write(r'\\enddata' + ' \\n')\n",
    "f.write(r'\\tablenotetext{}{References:' +\n",
    "        r' (1) \\cite{2014A&A...561A...2A},' +\n",
    "        r' (2) Alcal\\'{a} et al. (in prep),' +\n",
    "        r' (3) \\cite{2013MNRAS.429.1001A},' +\n",
    "        r' (4) \\cite{2011MNRAS.418.1194M},' +\n",
    "        r' (5) \\cite{2008ApJS..177..551M},' +\n",
    "        r' (6) Cleeves et al. (in prep),' +\n",
    "        r' (7) \\cite{2015A&A...578A..23B},' +\n",
    "        r' (8) \\cite{2008hsf2.book..295C}.' +\n",
    "        r' (This table is available in its entirety in machine-readible form.)}' + ' \\n')\n",
    "f.write(r'\\end{deluxetable}' + ' \\n')\n",
    "f.write(r'\\capstartfalse' + ' \\n')\n",
    "f.close()"
   ]
  }
 ],
 "metadata": {
  "jupytext": {
   "cell_metadata_filter": "-all",
   "main_language": "python",
   "notebook_metadata_filter": "-all"
  },
  "kernelspec": {
   "display_name": ".venv",
   "language": "python",
   "name": "python3"
  },
  "language_info": {
   "codemirror_mode": {
    "name": "ipython",
    "version": 3
   },
   "file_extension": ".py",
   "mimetype": "text/x-python",
   "name": "python",
   "nbconvert_exporter": "python",
   "pygments_lexer": "ipython3",
   "version": "3.9.13"
  }
 },
 "nbformat": 4,
 "nbformat_minor": 5
}
