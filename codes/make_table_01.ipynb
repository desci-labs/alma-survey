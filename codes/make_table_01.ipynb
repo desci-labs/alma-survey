{
 "cells": [
  {
   "cell_type": "code",
   "execution_count": null,
   "id": "d067af5a",
   "metadata": {},
   "outputs": [],
   "source": [
    "\"\"\"\n",
    "NOTE: units for \"e_Mass\" in \"t1_mrf.txt\" should be changed to \"solMass\"\n",
    "      for compatibility with astropy.Table.read \"ascii.cds\" format\n",
    "\n",
    "\"\"\""
   ]
  },
  {
   "cell_type": "markdown",
   "id": "d0e77b2e",
   "metadata": {},
   "source": [
    "======================== Import Packages =========================="
   ]
  },
  {
   "cell_type": "code",
   "execution_count": null,
   "id": "8a8eb269",
   "metadata": {
    "lines_to_next_cell": 2
   },
   "outputs": [],
   "source": [
    "import sys, pdb, glob\n",
    "import numpy as np\n",
    "from astropy.table import Table"
   ]
  },
  {
   "cell_type": "markdown",
   "id": "316dc162",
   "metadata": {},
   "source": [
    "========================== Code =========================="
   ]
  },
  {
   "cell_type": "code",
   "execution_count": null,
   "id": "665619c7",
   "metadata": {},
   "outputs": [],
   "source": [
    "### READ IN FULL TABLE FROM PAPER SUPPLEMENTAL MATERIAL\n",
    "T = Table.read('../input/apjaa2846t1_mrf.txt', format='ascii.cds')"
   ]
  },
  {
   "cell_type": "code",
   "execution_count": null,
   "id": "7840a595",
   "metadata": {},
   "outputs": [],
   "source": [
    "### WRITE HEADER INFO\n",
    "f = open('../output/table_01.tex', 'w')\n",
    "f.write(r'\\capstartfalse'                                     + ' \\n')\n",
    "f.write(r'\\begin{deluxetable}{lrrrr}'                         + ' \\n')\n",
    "f.write(r'\\tabletypesize{\\footnotesize}'                      + ' \\n')\n",
    "f.write(r'\\centering'                                         + ' \\n')\n",
    "f.write(r'\\tablewidth{240pt}'                                 + ' \\n')\n",
    "f.write(r'\\tablecaption{Stellar Properties \\label{tab-star}}' + ' \\n')\n",
    "f.write(r'\\tablecolumns{5} '                                  + ' \\n')\n",
    "f.write(r'\\tablehead{'                                        + ' \\n')\n",
    "f.write(r' \\colhead{Source}'                                  + ' \\n')\n",
    "f.write(r'&\\colhead{$d$ (pc)}'                                + ' \\n')\n",
    "f.write(r'&\\colhead{SpT}'                                     + ' \\n')\n",
    "f.write(r'&\\colhead{$M_{\\ast}$/$M_{\\odot}$}'                  + ' \\n')\n",
    "f.write(r'&\\colhead{Ref}'                                     + ' \\n')\n",
    "f.write(r'}'                                                  + ' \\n')\n",
    "f.write(r'\\startdata'                                         + ' \\n')"
   ]
  },
  {
   "cell_type": "code",
   "execution_count": null,
   "id": "a5ce6d94",
   "metadata": {},
   "outputs": [],
   "source": [
    "### WRITE FIRST 10 LINES\n",
    "lim = 10\n",
    "for i, val in enumerate(np.zeros(lim)):\n",
    "\n",
    "    source = T['Name'][i]\n",
    "    dist = str(T['Dis'][i])\n",
    "\n",
    "    if np.ma.is_masked(T['Ref'][i]) is True:\n",
    "        ref = '...'\n",
    "    else:\n",
    "        ref = str(T['Ref'][i])\n",
    "\n",
    "    if np.ma.is_masked(T['SpType'][i]) is True:\n",
    "        spt = '...'\n",
    "    else:\n",
    "        spt = T['SpType'][i]\n",
    "\n",
    "    if np.ma.is_masked(T['Mass'][i]) is True:\n",
    "        mstar = '...'\n",
    "    else:\n",
    "        mstar  = str(T['Mass'][i]) + r' $\\pm$ ' + str(T['e_Mass'][i])\n",
    "\n",
    "    ### END OF LINE\n",
    "    if (i < lim - 1):\n",
    "        end = r' \\\\' + '\\n'\n",
    "    else:\n",
    "        end = '\\n'\n",
    "\n",
    "    f.write(source + ' & ' + dist + ' & ' + spt + ' & ' + mstar + ' & ' + ref + end)"
   ]
  },
  {
   "cell_type": "code",
   "execution_count": null,
   "id": "8ea18709",
   "metadata": {},
   "outputs": [],
   "source": [
    "### WRITE FOOTER INFO\n",
    "f.write(r'\\enddata' + ' \\n')\n",
    "f.write(r'\\tablenotetext{}{References:' +\n",
    "        r' (1) \\cite{2014A&A...561A...2A},' +\n",
    "        r' (2) Alcal\\'{a} et al. (in prep),' +\n",
    "        r' (3) \\cite{2013MNRAS.429.1001A},' +\n",
    "        r' (4) \\cite{2011MNRAS.418.1194M},' +\n",
    "        r' (5) \\cite{2008ApJS..177..551M},' +\n",
    "        r' (6) Cleeves et al. (in prep),' +\n",
    "        r' (7) \\cite{2015A&A...578A..23B},' +\n",
    "        r' (8) \\cite{2008hsf2.book..295C}.' +\n",
    "        r' (This table is available in its entirety in machine-readible form.)}' + ' \\n')\n",
    "f.write(r'\\end{deluxetable}' + ' \\n')\n",
    "f.write(r'\\capstartfalse' + ' \\n')\n",
    "f.close()"
   ]
  }
 ],
 "metadata": {
  "jupytext": {
   "cell_metadata_filter": "-all",
   "main_language": "python",
   "notebook_metadata_filter": "-all"
  }
 },
 "nbformat": 4,
 "nbformat_minor": 5
}
