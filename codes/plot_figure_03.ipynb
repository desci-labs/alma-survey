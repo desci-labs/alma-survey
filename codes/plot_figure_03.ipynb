{
 "cells": [
  {
   "cell_type": "markdown",
   "id": "97382b71",
   "metadata": {},
   "source": [
    "======================== Import Packages =========================="
   ]
  },
  {
   "cell_type": "code",
   "execution_count": null,
   "id": "1caed86a",
   "metadata": {
    "lines_to_next_cell": 2
   },
   "outputs": [],
   "source": [
    "import os,sys,pdb\n",
    "import numpy as np\n",
    "import matplotlib.pyplot as plt\n",
    "from astropy.table import Table, join, MaskedColumn\n",
    "from astropy import constants as const\n",
    "import csv\n",
    "import matplotlib as mpl\n",
    "from astropy import constants as const"
   ]
  },
  {
   "cell_type": "markdown",
   "id": "8f992074",
   "metadata": {},
   "source": [
    "============================= Code =================================="
   ]
  },
  {
   "cell_type": "code",
   "execution_count": null,
   "id": "57a30302",
   "metadata": {},
   "outputs": [],
   "source": [
    "#### LOAD IN TABLES FROM PAPER SUPPLEMENTAL MATERIAL\n",
    "Table_Dust = Table.read('input/apjaa2846t2_mrf.txt', format='ascii.cds')\n",
    "Table_Gas = Table.read('input/apjaa2846t3_mrf.txt', format='ascii.cds')\n",
    "Table_All = join(Table_Dust, Table_Gas, join_type='inner')"
   ]
  },
  {
   "cell_type": "code",
   "execution_count": null,
   "id": "4fff3121",
   "metadata": {},
   "outputs": [],
   "source": [
    "### ONLY KEEP DUST DETECTIONS, CHANGE UNITS TO SOLAR MASSES, AND SORT TABLE BY INCREASING DUST MASS\n",
    "Table_All = Table_All[Table_All['FCont']/Table_All['e_FCont'] > 3.0]\n",
    "Table_All['MDust'] = Table_All['MDust']*(const.M_earth.cgs/const.M_sun.cgs).value\n",
    "Table_All['e_MDust']  = np.sqrt( (Table_All['e_MDust'])**2 + (0.1*Table_All['e_MDust'])**2 )*(const.M_earth.cgs/const.M_sun.cgs).value\n",
    "Table_All.sort('MDust')"
   ]
  },
  {
   "cell_type": "code",
   "execution_count": null,
   "id": "d142ac8c",
   "metadata": {},
   "outputs": [],
   "source": [
    "### CHANGE GAS MASS UNITS TO SOLAR MASSES\n",
    "Table_All['Mgas'] = Table_All['Mgas'] * (const.M_jup.cgs/const.M_sun.cgs).value\n",
    "Table_All['b_Mgas'] = Table_All['b_Mgas'] * (const.M_jup.cgs/const.M_sun.cgs).value\n",
    "Table_All['B_Mgas'] = Table_All['B_Mgas'] * (const.M_jup.cgs/const.M_sun.cgs).value"
   ]
  },
  {
   "cell_type": "code",
   "execution_count": null,
   "id": "12e9f3aa",
   "metadata": {},
   "outputs": [],
   "source": [
    "### SETUP PLOT\n",
    "mpl.rc('xtick', labelsize=15) \n",
    "mpl.rc('ytick', labelsize=15)\n",
    "mpl.rc('xtick.major',size=7, pad=7, width=1)\n",
    "mpl.rc('ytick.major',size=7, pad=7, width=1)\n",
    "mpl.rc('axes', linewidth=1)\n",
    "mpl.rc('lines', markersize=5)\n",
    "fig = plt.figure(figsize = (16, 12))"
   ]
  },
  {
   "cell_type": "code",
   "execution_count": null,
   "id": "79365aaf",
   "metadata": {},
   "outputs": [],
   "source": [
    "### SET UP DUST MASS SUBPLOT\n",
    "ax1 = fig.add_subplot(311)\n",
    "ax1.set_ylim(1e-7, 1e-3)\n",
    "ax1.set_yscale('log')\n",
    "ax1.set_ylabel('Dust Mass ('+r'$\\mathregular{M_{\\odot}}$'+')', fontsize=17)\n",
    "ax1.set_xlim(-1, len(Table_All))\n",
    "ax1.xaxis.set_ticks(np.arange(-4, len(Table_All),1))\n",
    "fig.canvas.draw()\n",
    "ax1.tick_params(axis='x', which='both', bottom=False, top=False, labelbottom=False)\n",
    "ax1.tick_params(axis='y', which='both', labelsize=12)\n",
    "ax1.grid(color='gray',linewidth=1, linestyle=':', alpha=0.3)\n",
    "plt.axhline(y=3e-06,color='gray',linewidth=1.0)\n",
    "ax1.text(-3.5,4e-06,r'$\\mathregular{1M_{\\oplus}}$',fontsize=12,style='italic',color='gray')\n",
    "plt.axhline(y=3e-05,color='gray',linewidth=1.0)\n",
    "ax1.text(-3.5,4e-05,r'$\\mathregular{10M_{\\oplus}}$',fontsize=12,style='italic',color='gray')\n",
    "ax1.errorbar(-1, 5.68e-05, fmt='*', color='white', ms=12, mec='black', mew=1, zorder=999)\n",
    "ax1.errorbar(-2, 1.20e-05, fmt='*', color='white', ms=12, mec='black', mew=1, zorder=999)\n",
    "ax1.errorbar(-3, 2.26e-07, fmt='*', color='white', ms=12, mec='black', mew=1, zorder=999)\n",
    "ax1.arrow(-3, 2.26e-07, 0.0, -0.4*2.26e-07, head_width=0.3, head_length=2.26e-07*0.1, fc='black', ec='black', linewidth=1, zorder=1)"
   ]
  },
  {
   "cell_type": "code",
   "execution_count": null,
   "id": "61224f9c",
   "metadata": {},
   "outputs": [],
   "source": [
    "### SET UP GAS MASS SUBPLOT\n",
    "ax2 = fig.add_subplot(312)\n",
    "ax2.set_ylim(1e-5, 1e-1)\n",
    "ax2.set_yscale('log')\n",
    "ax2.set_ylabel('Gas Mass ('+r'$\\mathregular{M_{\\odot}}$'+')', fontsize=17)\n",
    "ax2.set_xlim(-1,len(Table_All))\n",
    "ax2.xaxis.set_ticks(np.arange(-4, len(Table_All), 1))\n",
    "ax2.tick_params(axis='y', which='both', labelsize=12)\n",
    "fig.canvas.draw()\n",
    "ax2.tick_params(axis='x', which='both', bottom=False, top=False, labelbottom=False)\n",
    "ax2.grid(color='gray', linewidth=1, linestyle=':', alpha=0.3)\n",
    "plt.axhline(y=1e-3, color='gray', linewidth=1.0)\n",
    "plt.axhline(y=1e-2, color='gray', linewidth=1.0)\n",
    "ax2.text(-3.5, 1.4e-3, r'$\\mathregular{1M_{Jup}}$', fontsize=12, style='italic', color='gray')\n",
    "ax2.text(-3.5, 1.2e-2,r'$\\mathregular{MMSN}$', fontsize=12, style='italic', color='gray')\n",
    "ax2.errorbar(-1, 3.8e-4, fmt='*', color='white', ms=12, mec='black', mew=1, zorder=999)\n",
    "ax2.errorbar(-2, 1.9e-4, fmt='*', color='white', ms=12, mec='black', mew=1, zorder=999)\n",
    "ax2.arrow(-2, 1.9e-4, 0.0, -0.5 * 1.9e-4, head_width=0.3, head_length=1.9e-4 * 0.1, fc='black', ec='black', linewidth=1, zorder=1)"
   ]
  },
  {
   "cell_type": "code",
   "execution_count": null,
   "id": "9fa8a64f",
   "metadata": {},
   "outputs": [],
   "source": [
    "### SET UP GAS-TO-DUST MASS SUBPLOT\n",
    "ax3 = fig.add_subplot(313)\n",
    "ax3.set_ylim(0.1, 1e4)\n",
    "ax3.set_yscale('log')\n",
    "ax3.set_ylabel('Gas-to-Dust Ratio', fontsize=17) \n",
    "ax3.set_xlim(-1,len(Table_All))\n",
    "ax3.xaxis.set_ticks(np.arange(-4, len(Table_All), 1))\n",
    "ax3.tick_params(axis='y', which='both', labelsize=12)\n",
    "fig.canvas.draw()\n",
    "labels = list(np.append([' ', 'Continuum non-det', r'$\\mathregular{^{13}\\!\\hspace{0.1}CO}$' + ' & ' + r'$\\mathregular{C^{18}\\!\\hspace{0.1}O}$' + \n",
    "                         ' non-det', r'$\\mathregular{C^{18}\\!\\hspace{0.1}O}$' + ' non-det'], Table_All['Name']))\n",
    "ax3.set_xticklabels(labels, rotation='vertical', size=9)\n",
    "ax3.grid(color='gray',linewidth=1, linestyle=':', alpha=0.3)\n",
    "plt.axhline(y=100, color='gray', linewidth=1.0)\n",
    "ax3.text(-3.5, 1.3e2, 'ISM', fontsize=11, style='italic', color='gray')\n",
    "ax3.errorbar(-1, 7, fmt='*', color='white', ms=12, mec='black', mew=1, zorder=999)\n",
    "ax3.errorbar(-2, 13,fmt='*', color='white', ms=12, mec='black', mew=1, zorder=999)\n",
    "ax3.arrow(-2, 13, 0.0, -0.5 * 13, head_width=0.3, head_length=13 * 0.1, fc='black', ec='black', linewidth=1, zorder=1)"
   ]
  },
  {
   "cell_type": "code",
   "execution_count": null,
   "id": "778eb697",
   "metadata": {},
   "outputs": [],
   "source": [
    "### PLOT DUST MASSES\n",
    "ax1.errorbar(np.arange(len(Table_All)), Table_All['MDust'], yerr=Table_All['e_MDust'], \n",
    "             fmt='o', mfc='lightblue', ms=6, mec='black', mew=0.8, ecolor='black', elinewidth=1, zorder=999,capsize=2)"
   ]
  },
  {
   "cell_type": "code",
   "execution_count": null,
   "id": "750e6217",
   "metadata": {},
   "outputs": [],
   "source": [
    "### PLOT GAS MASSES AND GAS-TO-DUST RATIOS\n",
    "for i, val in enumerate(Table_All['Name']):\n",
    "\n",
    "    ### PLOT NON-DETECTIONS\n",
    "    if Table_All['l_Mgas'][i] == '<':\n",
    "\n",
    "        ax2.errorbar(i, Table_All['Mgas'][i], fmt='v', color='lightgray', ms=7, mec='black', mew=0.9, zorder=999)\n",
    "        ax3.errorbar(i, int(round(Table_All['Mgas'][i]/Table_All['MDust'][i])), fmt='v', color='lightgray', ms=7, mec='black', mew=0.9, zorder=999)\n",
    "\n",
    "    ### PLOT DETECTIONS WITH ONLY UPPER LIMITS\n",
    "    elif Table_All['b_Mgas'][i] is np.ma.masked:\n",
    "\n",
    "        ax2.arrow(i, Table_All['Mgas'][i], 0.0, -0.5 * Table_All['Mgas'][i], head_width=0.3, head_length=Table_All['Mgas'][i] * 0.1,\n",
    "                 fc='black', ec='black', linewidth=0.9, zorder=1)\n",
    "        ax2.errorbar(i, Table_All['Mgas'][i], yerr=[[0],[Table_All['B_Mgas'][i] - Table_All['Mgas'][i]]],\n",
    "                    fmt='o', mfc='lightblue', ms=7, mec='black', mew=1, ecolor='black', elinewidth=0.9, zorder=999, capsize=3)\n",
    "\n",
    "        g2d = int(round(Table_All['Mgas'][i]/Table_All['MDust'][i]))\n",
    "        g2d_max = int(round(Table_All['B_Mgas'][i]/Table_All['MDust'][i]))\n",
    "        ax3.arrow(i, g2d, 0.0, -0.5 * g2d, head_width=0.3, head_length=g2d * 0.1, fc='black', ec='black', linewidth=1, zorder=1)\n",
    "        ax3.errorbar(i, g2d,yerr=[[0],[g2d_max - g2d]], fmt='o', mfc='lightblue', ms=7, mec='black', mew=1, \n",
    "                     ecolor='black', elinewidth=1, zorder=999, capsize=3)\n",
    "\n",
    "    ### PLOT DETECTIONS WITH BOTH UPPER AND LOWER LIMITS\n",
    "    else:\n",
    "        \n",
    "        ax2.errorbar(i, Table_All['Mgas'][i], yerr=[[Table_All['Mgas'][i] - Table_All['b_Mgas'][i]], [Table_All['B_Mgas'][i] - Table_All['Mgas'][i]]],\n",
    "                    fmt='o', mfc='lightblue', ms=6, mec='black', mew=1, ecolor='black', elinewidth=0.9, zorder=999, capsize=3)\n",
    "        \n",
    "        g2d = int(round(Table_All['Mgas'][i]/Table_All['MDust'][i]))\n",
    "        g2d_max = int(round(Table_All['B_Mgas'][i]/Table_All['MDust'][i]))\n",
    "        g2d_min = int(round(Table_All['b_Mgas'][i]/Table_All['MDust'][i]))\n",
    "        ax3.errorbar(i, g2d, yerr=[[g2d - g2d_min],[g2d_max - g2d]], fmt='o', mfc='lightblue', \n",
    "                     ms=6, mec='black', mew=0.9, ecolor='black', elinewidth=1, zorder=999, capsize=3)"
   ]
  },
  {
   "cell_type": "code",
   "execution_count": null,
   "id": "03cedd94",
   "metadata": {},
   "outputs": [],
   "source": [
    "### SAVE PLOT\n",
    "plt.show()\n",
    "fig.savefig('output/figure_03.png', bbox_inches='tight', dpi=100)\n",
    "plt.close('all')"
   ]
  }
 ],
 "metadata": {
  "jupytext": {
   "cell_metadata_filter": "-all",
   "main_language": "python",
   "notebook_metadata_filter": "-all"
  },
  "language_info": {
   "name": "python"
  }
 },
 "nbformat": 4,
 "nbformat_minor": 5
}
